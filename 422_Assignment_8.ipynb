{
  "nbformat": 4,
  "nbformat_minor": 0,
  "metadata": {
    "colab": {
      "name": "422 - Assignment 8.ipynb",
      "provenance": [],
      "collapsed_sections": []
    },
    "kernelspec": {
      "name": "python3",
      "display_name": "Python 3"
    }
  },
  "cells": [
    {
      "cell_type": "markdown",
      "metadata": {
        "id": "KZ2S8qMdBjyM",
        "colab_type": "text"
      },
      "source": [
        "# 1. Data Setup"
      ]
    },
    {
      "cell_type": "code",
      "metadata": {
        "colab_type": "code",
        "outputId": "56826d6e-dd4d-4b1f-8e79-93b113e8d23b",
        "id": "IQVCfgmMDq6E",
        "colab": {
          "base_uri": "https://localhost:8080/",
          "height": 287
        }
      },
      "source": [
        "# Python chakin package install\n",
        "!pip install chakin\n",
        "\n",
        "# Common imports for our work\n",
        "import os, time, re, cv2, chakin, json\n",
        "import pandas as pd  # data frame operations  \n",
        "import numpy as np  # arrays and math functions\n",
        "import matplotlib.pyplot as plt  # static plotting\n",
        "import seaborn as sns\n",
        "from collections import defaultdict\n",
        "import tensorflow as tf\n",
        "import scipy, sklearn\n",
        "from sklearn.preprocessing import StandardScaler, MinMaxScaler\n",
        "from sklearn.model_selection import train_test_split\n",
        "from matplotlib.backends.backend_pdf import PdfPages\n",
        "from datetime import datetime\n",
        "from __future__ import division, print_function, unicode_literals\n",
        "\n",
        "# Ignore warnings\n",
        "import warnings\n",
        "warnings.filterwarnings(\"ignore\")"
      ],
      "execution_count": 3,
      "outputs": [
        {
          "output_type": "stream",
          "text": [
            "Collecting chakin\n",
            "  Downloading https://files.pythonhosted.org/packages/ca/3f/ca2f63451c0ab47970a6ab1d39d96118e70b6e73125529cea767c31368a3/chakin-0.0.8-py3-none-any.whl\n",
            "Requirement already satisfied: pandas>=0.20.1 in /usr/local/lib/python3.6/dist-packages (from chakin) (0.25.3)\n",
            "Requirement already satisfied: six>=1.10.0 in /usr/local/lib/python3.6/dist-packages (from chakin) (1.12.0)\n",
            "Requirement already satisfied: progressbar2>=3.20.0 in /usr/local/lib/python3.6/dist-packages (from chakin) (3.38.0)\n",
            "Requirement already satisfied: pytz>=2017.2 in /usr/local/lib/python3.6/dist-packages (from pandas>=0.20.1->chakin) (2018.9)\n",
            "Requirement already satisfied: python-dateutil>=2.6.1 in /usr/local/lib/python3.6/dist-packages (from pandas>=0.20.1->chakin) (2.6.1)\n",
            "Requirement already satisfied: numpy>=1.13.3 in /usr/local/lib/python3.6/dist-packages (from pandas>=0.20.1->chakin) (1.17.5)\n",
            "Requirement already satisfied: python-utils>=2.3.0 in /usr/local/lib/python3.6/dist-packages (from progressbar2>=3.20.0->chakin) (2.3.0)\n",
            "Installing collected packages: chakin\n",
            "Successfully installed chakin-0.0.8\n"
          ],
          "name": "stdout"
        },
        {
          "output_type": "display_data",
          "data": {
            "text/html": [
              "<p style=\"color: red;\">\n",
              "The default version of TensorFlow in Colab will soon switch to TensorFlow 2.x.<br>\n",
              "We recommend you <a href=\"https://www.tensorflow.org/guide/migrate\" target=\"_blank\">upgrade</a> now \n",
              "or ensure your notebook will continue to use TensorFlow 1.x via the <code>%tensorflow_version 1.x</code> magic:\n",
              "<a href=\"https://colab.research.google.com/notebooks/tensorflow_version.ipynb\" target=\"_blank\">more info</a>.</p>\n"
            ],
            "text/plain": [
              "<IPython.core.display.HTML object>"
            ]
          },
          "metadata": {
            "tags": []
          }
        }
      ]
    },
    {
      "cell_type": "code",
      "metadata": {
        "id": "n4lC_VK562av",
        "colab_type": "code",
        "colab": {}
      },
      "source": [
        "# print(os.getcwd())"
      ],
      "execution_count": 0,
      "outputs": []
    },
    {
      "cell_type": "markdown",
      "metadata": {
        "id": "9K96CUcgBwzA",
        "colab_type": "text"
      },
      "source": [
        "## 1.1 Download GloVe Embeddings"
      ]
    },
    {
      "cell_type": "code",
      "metadata": {
        "id": "gGMEUayTERJE",
        "colab_type": "code",
        "colab": {
          "base_uri": "https://localhost:8080/",
          "height": 272
        },
        "outputId": "fdd661bd-4e5c-43ed-8d56-9b7cb5f2fa19"
      },
      "source": [
        "chakin.search(lang='English')  # lists available indices in English"
      ],
      "execution_count": 5,
      "outputs": [
        {
          "output_type": "stream",
          "text": [
            "                   Name  Dimension  ... Language    Author\n",
            "2          fastText(en)        300  ...  English  Facebook\n",
            "11         GloVe.6B.50d         50  ...  English  Stanford\n",
            "12        GloVe.6B.100d        100  ...  English  Stanford\n",
            "13        GloVe.6B.200d        200  ...  English  Stanford\n",
            "14        GloVe.6B.300d        300  ...  English  Stanford\n",
            "15       GloVe.42B.300d        300  ...  English  Stanford\n",
            "16      GloVe.840B.300d        300  ...  English  Stanford\n",
            "17    GloVe.Twitter.25d         25  ...  English  Stanford\n",
            "18    GloVe.Twitter.50d         50  ...  English  Stanford\n",
            "19   GloVe.Twitter.100d        100  ...  English  Stanford\n",
            "20   GloVe.Twitter.200d        200  ...  English  Stanford\n",
            "21  word2vec.GoogleNews        300  ...  English    Google\n",
            "\n",
            "[12 rows x 7 columns]\n"
          ],
          "name": "stdout"
        }
      ]
    },
    {
      "cell_type": "code",
      "metadata": {
        "id": "LiTQdZCSEqsu",
        "colab_type": "code",
        "colab": {}
      },
      "source": [
        "# Specify English embeddings file to download and install by index number, number of dimensions, and subfoder name\n",
        "# Note that GloVe 50-, 100-, 200-, and 300-dimensional folders are downloaded with a single zip download\n",
        "CHAKIN_INDEX = 11\n",
        "NUMBER_OF_DIMENSIONS = 50\n",
        "SUBFOLDER_NAME = \"gloVe.6B\""
      ],
      "execution_count": 0,
      "outputs": []
    },
    {
      "cell_type": "code",
      "metadata": {
        "id": "yizqbSOhEx3L",
        "colab_type": "code",
        "colab": {}
      },
      "source": [
        "DATA_FOLDER = \"embeddings\"\n",
        "ZIP_FILE = os.path.join(DATA_FOLDER, \"{}.zip\".format(SUBFOLDER_NAME))\n",
        "ZIP_FILE_ALT = \"glove\" + ZIP_FILE[5:]  # sometimes it's lowercase only...\n",
        "UNZIP_FOLDER = os.path.join(DATA_FOLDER, SUBFOLDER_NAME)\n",
        "if SUBFOLDER_NAME[-1] == \"d\":\n",
        "    GLOVE_FILENAME = os.path.join(\n",
        "        UNZIP_FOLDER, \"{}.txt\".format(SUBFOLDER_NAME))\n",
        "else:\n",
        "    GLOVE_FILENAME = os.path.join(UNZIP_FOLDER, \"{}.{}d.txt\".format(\n",
        "        SUBFOLDER_NAME, NUMBER_OF_DIMENSIONS))"
      ],
      "execution_count": 0,
      "outputs": []
    },
    {
      "cell_type": "code",
      "metadata": {
        "id": "vUrsOzzPKz4N",
        "colab_type": "code",
        "colab": {
          "base_uri": "https://localhost:8080/",
          "height": 71
        },
        "outputId": "19859ca2-72e2-4822-f22d-0646251b760b"
      },
      "source": [
        "# download zip\n",
        "if not os.path.exists(ZIP_FILE) and not os.path.exists(UNZIP_FOLDER):\n",
        "    print(\"Downloading embeddings to '{}'\".format(ZIP_FILE))\n",
        "    chakin.download(number=CHAKIN_INDEX, save_dir='./{}'.format(DATA_FOLDER))\n",
        "else:\n",
        "    print(\"Embeddings already downloaded.\")\n"
      ],
      "execution_count": 8,
      "outputs": [
        {
          "output_type": "stream",
          "text": [
            "Downloading embeddings to 'embeddings/gloVe.6B.zip'\n"
          ],
          "name": "stdout"
        },
        {
          "output_type": "stream",
          "text": [
            "Test: 100% ||                                      | Time:  0:06:27   2.1 MiB/s\n"
          ],
          "name": "stderr"
        }
      ]
    },
    {
      "cell_type": "code",
      "metadata": {
        "id": "YvpmR4HKXQej",
        "colab_type": "code",
        "colab": {
          "base_uri": "https://localhost:8080/",
          "height": 34
        },
        "outputId": "986e0b7e-53e1-4d74-9673-d2ccadb2e22d"
      },
      "source": [
        "print(os.path.join('/embeddings/', 'glove.6B.zip'))"
      ],
      "execution_count": 9,
      "outputs": [
        {
          "output_type": "stream",
          "text": [
            "/embeddings/glove.6B.zip\n"
          ],
          "name": "stdout"
        }
      ]
    },
    {
      "cell_type": "code",
      "metadata": {
        "id": "GtzjlGtZQI-T",
        "colab_type": "code",
        "colab": {
          "base_uri": "https://localhost:8080/",
          "height": 68
        },
        "outputId": "e10e8739-ef39-47b5-e02c-58a07555ed3e"
      },
      "source": [
        "# unzip file\n",
        "if not os.path.exists(UNZIP_FOLDER):\n",
        "    import zipfile\n",
        "    if not os.path.exists(ZIP_FILE) and os.path.exists(ZIP_FILE_ALT):\n",
        "        ZIP_FILE = ZIP_FILE_ALT\n",
        "    with zipfile.ZipFile(\"embeddings/glove.6B.zip\", \"r\") as zip_ref:\n",
        "        print(\"Extracting embeddings to '{}'\".format(UNZIP_FOLDER))\n",
        "        zip_ref.extractall(UNZIP_FOLDER)\n",
        "else:\n",
        "    print(\"Embeddings already extracted.\")\n",
        "\n",
        "print('\\nRun complete')"
      ],
      "execution_count": 10,
      "outputs": [
        {
          "output_type": "stream",
          "text": [
            "Extracting embeddings to 'embeddings/gloVe.6B'\n",
            "\n",
            "Run complete\n"
          ],
          "name": "stdout"
        }
      ]
    },
    {
      "cell_type": "markdown",
      "metadata": {
        "id": "1lLy2hpvYnzI",
        "colab_type": "text"
      },
      "source": [
        "## 1.2 Read Movie Reviews"
      ]
    },
    {
      "cell_type": "code",
      "metadata": {
        "id": "4wH0s4KPY8Zw",
        "colab_type": "code",
        "colab": {
          "base_uri": "https://localhost:8080/",
          "height": 34
        },
        "outputId": "e9ce0af0-6d05-4be8-84ae-b70afc66717a"
      },
      "source": [
        "# Common imports for our work\n",
        "from __future__ import absolute_import # from __future__ import absolute_import\n",
        "from __future__ import division # Changing the Division Operator\n",
        "from __future__ import print_function #Make print a function\n",
        "\n",
        "# Keras\n",
        "from keras.preprocessing.text import Tokenizer\n",
        "from keras.preprocessing.sequence import pad_sequences\n",
        "from keras.models import Sequential\n",
        "from keras.layers import Dense, Flatten, LSTM, Conv1D, MaxPooling1D, Dropout, Activation\n",
        "from keras.layers.embeddings import Embedding\n",
        "\n",
        "import numpy as np # import numpy\n",
        "import os  # operating system functions\n",
        "import os.path  # for manipulation of file path names\n",
        "import re  # regular expressions\n",
        "from collections import defaultdict # dict subclass that calls a factory function to supply missing values\n",
        "\n",
        "import nltk # Natural Language Toolkit\n",
        "from nltk.tokenize import TreebankWordTokenizer #tokenize text\n",
        "\n",
        "\n",
        "## Plot\n",
        "from matplotlib import pyplot\n",
        "\n",
        "# NLTK\n",
        "import nltk\n",
        "from nltk.corpus import stopwords\n",
        "from nltk.stem import SnowballStemmer\n",
        "from nltk.tokenize import TreebankWordTokenizer\n",
        "\n",
        "# Other\n",
        "import re\n",
        "import string\n",
        "import numpy as np\n",
        "import pandas as pd\n",
        "from sklearn.manifold import TSNE\n",
        "\n",
        "import tensorflow as tf #TensorFlow\n",
        "import time # Record processing time"
      ],
      "execution_count": 11,
      "outputs": [
        {
          "output_type": "stream",
          "text": [
            "Using TensorFlow backend.\n"
          ],
          "name": "stderr"
        }
      ]
    },
    {
      "cell_type": "code",
      "metadata": {
        "id": "f0Tbq8hZY-DQ",
        "colab_type": "code",
        "colab": {}
      },
      "source": [
        "REMOVE_STOPWORDS = False  # no stopword removal"
      ],
      "execution_count": 0,
      "outputs": []
    },
    {
      "cell_type": "code",
      "metadata": {
        "id": "-Gqxi1oldTa-",
        "colab_type": "code",
        "colab": {}
      },
      "source": [
        "# seed value for random number generators to obtain reproducible results\n",
        "RANDOM_SEED = 9999"
      ],
      "execution_count": 0,
      "outputs": []
    },
    {
      "cell_type": "code",
      "metadata": {
        "id": "0GGqwwKke820",
        "colab_type": "code",
        "colab": {}
      },
      "source": [
        "EVOCABSIZE = 10000  # specify desired size of pre-defined embedding vocabulary "
      ],
      "execution_count": 0,
      "outputs": []
    },
    {
      "cell_type": "code",
      "metadata": {
        "id": "MG7kwc_ZfALO",
        "colab_type": "code",
        "colab": {}
      },
      "source": [
        "# ------------------------------------------------------------- \n",
        "# Select the pre-defined embeddings source        \n",
        "# Define vocabulary size for the language model    \n",
        "# Create a word_to_embedding_dict for GloVe.6B.50d\n",
        "embeddings_directory = 'embeddings/gloVe.6B'\n",
        "filename = 'glove.6B.50d.txt'\n",
        "embeddings_filename = os.path.join(embeddings_directory, filename)\n",
        "# ------------------------------------------------------------- "
      ],
      "execution_count": 0,
      "outputs": []
    },
    {
      "cell_type": "code",
      "metadata": {
        "id": "LefjGHgqfHqk",
        "colab_type": "code",
        "colab": {}
      },
      "source": [
        "# Load a embedding text file\n",
        "def load_embedding_from_disks(embeddings_filename, with_indexes=True):\n",
        "    \"\"\"\n",
        "    Read a embeddings txt file. If `with_indexes=True`, we return a tuple of two dictionaries \n",
        "    `(word_to_index_dict, index_to_embedding_array)`, otherwise we return only a direct \n",
        "    `word_to_embedding_dict` dictionary mapping from a string to a numpy array.\n",
        "    \"\"\"\n",
        "    if with_indexes:\n",
        "        word_to_index_dict = dict()\n",
        "        index_to_embedding_array = []\n",
        "  \n",
        "    else:\n",
        "        word_to_embedding_dict = dict()\n",
        "\n",
        "    with open(embeddings_filename, 'r', encoding='utf-8') as embeddings_file:\n",
        "        for (i, line) in enumerate(embeddings_file):\n",
        "\n",
        "            split = line.split(' ')\n",
        "\n",
        "            word = split[0]\n",
        "\n",
        "            representation = split[1:]\n",
        "            representation = np.array(\n",
        "                [float(val) for val in representation]\n",
        "            )\n",
        "\n",
        "            if with_indexes:\n",
        "                word_to_index_dict[word] = i\n",
        "                index_to_embedding_array.append(representation)\n",
        "            else:\n",
        "                word_to_embedding_dict[word] = representation\n",
        "\n",
        "    # Empty representation for unknown words.\n",
        "    _WORD_NOT_FOUND = [0.0] * len(representation)\n",
        "    if with_indexes:\n",
        "        _LAST_INDEX = i + 1\n",
        "        word_to_index_dict = defaultdict(\n",
        "            lambda: _LAST_INDEX, word_to_index_dict)\n",
        "        index_to_embedding_array = np.array(\n",
        "            index_to_embedding_array + [_WORD_NOT_FOUND])\n",
        "        return word_to_index_dict, index_to_embedding_array\n",
        "    else:\n",
        "        word_to_embedding_dict = defaultdict(lambda: _WORD_NOT_FOUND)\n",
        "        return word_to_embedding_dict\n"
      ],
      "execution_count": 0,
      "outputs": []
    },
    {
      "cell_type": "code",
      "metadata": {
        "id": "5oZ3eOr4fKrB",
        "colab_type": "code",
        "colab": {
          "base_uri": "https://localhost:8080/",
          "height": 68
        },
        "outputId": "c59b0a98-8966-47b3-d165-ef94ea779bf5"
      },
      "source": [
        "# Check if the loaded embedding files glove.6B.50d. successfully.   \"glove.6B.50d.\"was ontained though \"run-chakin-to-get-embeddings-v001.py\"\n",
        "print('\\nLoading embeddings from', embeddings_filename)\n",
        "word_to_index, index_to_embedding = \\\n",
        "    load_embedding_from_disks(embeddings_filename, with_indexes=True)\n",
        "print(\"Embedding loaded from disks.\")\n",
        "\n",
        "# Note: unknown words have representations with values [0, 0, ..., 0]"
      ],
      "execution_count": 17,
      "outputs": [
        {
          "output_type": "stream",
          "text": [
            "\n",
            "Loading embeddings from embeddings/gloVe.6B/glove.6B.50d.txt\n",
            "Embedding loaded from disks.\n"
          ],
          "name": "stdout"
        }
      ]
    },
    {
      "cell_type": "code",
      "metadata": {
        "id": "WQbWLipTfZCE",
        "colab_type": "code",
        "colab": {
          "base_uri": "https://localhost:8080/",
          "height": 190
        },
        "outputId": "a1326e9e-728f-4faf-9c74-e6d9b111fecf"
      },
      "source": [
        "# Additional background code from\n",
        "# https://github.com/guillaume-chevalier/GloVe-as-a-TensorFlow-Embedding-Layer\n",
        "# shows the general structure of the data structures for word embeddings\n",
        "# This code is modified for our purposes in language modeling \n",
        "\n",
        "# Check vocabrary size and embedding dimention\n",
        "vocab_size, embedding_dim = index_to_embedding.shape\n",
        "print(\"Embedding is of shape: {}\".format(index_to_embedding.shape))\n",
        "print(\"This means (number of words, number of dimensions per word)\\n\")\n",
        "print(\"The first words are words that tend occur more often.\")\n",
        "\n",
        "#Check embedding data\n",
        "print(\"Note: for unknown words, the representation is an empty vector,\\n\"\n",
        "      \"and the index is the last one. The dictionnary has a limit:\")\n",
        "print(\"    {} --> {} --> {}\".format(\"A word\", \"Index in embedding\", \n",
        "      \"Representation\"))\n",
        "word = \"worsdfkljsdf\"  # a word obviously not in the vocabulary\n",
        "idx = word_to_index[word] # index for word obviously not in the vocabulary\n",
        "complete_vocabulary_size = idx \n",
        "embd = list(np.array(index_to_embedding[idx], dtype=int)) # \"int\" compact print\n",
        "print(\"    {} --> {} --> {}\".format(word, idx, embd))\n",
        "word = \"the\"\n",
        "idx = word_to_index[word]\n",
        "embd = list(index_to_embedding[idx])  # \"int\" for compact print only.\n",
        "print(\"    {} --> {} --> {}\".format(word, idx, embd))"
      ],
      "execution_count": 18,
      "outputs": [
        {
          "output_type": "stream",
          "text": [
            "Embedding is of shape: (400001, 50)\n",
            "This means (number of words, number of dimensions per word)\n",
            "\n",
            "The first words are words that tend occur more often.\n",
            "Note: for unknown words, the representation is an empty vector,\n",
            "and the index is the last one. The dictionnary has a limit:\n",
            "    A word --> Index in embedding --> Representation\n",
            "    worsdfkljsdf --> 400000 --> [0, 0, 0, 0, 0, 0, 0, 0, 0, 0, 0, 0, 0, 0, 0, 0, 0, 0, 0, 0, 0, 0, 0, 0, 0, 0, 0, 0, 0, 0, 0, 0, 0, 0, 0, 0, 0, 0, 0, 0, 0, 0, 0, 0, 0, 0, 0, 0, 0, 0]\n",
            "    the --> 0 --> [0.418, 0.24968, -0.41242, 0.1217, 0.34527, -0.044457, -0.49688, -0.17862, -0.00066023, -0.6566, 0.27843, -0.14767, -0.55677, 0.14658, -0.0095095, 0.011658, 0.10204, -0.12792, -0.8443, -0.12181, -0.016801, -0.33279, -0.1552, -0.23131, -0.19181, -1.8823, -0.76746, 0.099051, -0.42125, -0.19526, 4.0071, -0.18594, -0.52287, -0.31681, 0.00059213, 0.0074449, 0.17778, -0.15897, 0.012041, -0.054223, -0.29871, -0.15749, -0.34758, -0.045637, -0.44251, 0.18785, 0.0027849, -0.18411, -0.11514, -0.78581]\n"
          ],
          "name": "stdout"
        }
      ]
    },
    {
      "cell_type": "code",
      "metadata": {
        "id": "xivWaa9Mfclw",
        "colab_type": "code",
        "colab": {
          "base_uri": "https://localhost:8080/",
          "height": 1000
        },
        "outputId": "db159bb0-2273-424e-cee4-cc262c8fe61b"
      },
      "source": [
        "# Show how to use embeddings dictionaries with a test sentence\n",
        "# This is a famous typing exercise with all letters of the alphabet\n",
        "# https://en.wikipedia.org/wiki/The_quick_brown_fox_jumps_over_the_lazy_dog\n",
        "a_typing_test_sentence = 'The quick brown fox jumps over the lazy dog'\n",
        "print('\\nTest sentence: ', a_typing_test_sentence, '\\n')\n",
        "words_in_test_sentence = a_typing_test_sentence.split()\n",
        "\n",
        "print('Test sentence embeddings from complete vocabulary of', \n",
        "      complete_vocabulary_size, 'words:\\n')\n",
        "for word in words_in_test_sentence:\n",
        "    word_ = word.lower()\n",
        "    embedding = index_to_embedding[word_to_index[word_]]\n",
        "    print(word_ + \": \", embedding)"
      ],
      "execution_count": 19,
      "outputs": [
        {
          "output_type": "stream",
          "text": [
            "\n",
            "Test sentence:  The quick brown fox jumps over the lazy dog \n",
            "\n",
            "Test sentence embeddings from complete vocabulary of 400000 words:\n",
            "\n",
            "the:  [ 4.1800e-01  2.4968e-01 -4.1242e-01  1.2170e-01  3.4527e-01 -4.4457e-02\n",
            " -4.9688e-01 -1.7862e-01 -6.6023e-04 -6.5660e-01  2.7843e-01 -1.4767e-01\n",
            " -5.5677e-01  1.4658e-01 -9.5095e-03  1.1658e-02  1.0204e-01 -1.2792e-01\n",
            " -8.4430e-01 -1.2181e-01 -1.6801e-02 -3.3279e-01 -1.5520e-01 -2.3131e-01\n",
            " -1.9181e-01 -1.8823e+00 -7.6746e-01  9.9051e-02 -4.2125e-01 -1.9526e-01\n",
            "  4.0071e+00 -1.8594e-01 -5.2287e-01 -3.1681e-01  5.9213e-04  7.4449e-03\n",
            "  1.7778e-01 -1.5897e-01  1.2041e-02 -5.4223e-02 -2.9871e-01 -1.5749e-01\n",
            " -3.4758e-01 -4.5637e-02 -4.4251e-01  1.8785e-01  2.7849e-03 -1.8411e-01\n",
            " -1.1514e-01 -7.8581e-01]\n",
            "quick:  [ 0.13967   -0.53798   -0.18047   -0.25142    0.16203   -0.13868\n",
            " -0.24637    0.75111    0.27264    0.61035   -0.82548    0.038647\n",
            " -0.32361    0.30373   -0.14598   -0.23551    0.39267   -1.1287\n",
            " -0.23636   -1.0629     0.046277   0.29143   -0.25819   -0.094902\n",
            "  0.79478   -1.2095    -0.01039   -0.092086   0.84322   -0.11061\n",
            "  3.0096     0.51652   -0.76986    0.51074    0.37508    0.12156\n",
            "  0.082794   0.43605   -0.1584    -0.61048    0.35006    0.52465\n",
            " -0.51747    0.0034705  0.73625    0.16252    0.85279    0.85268\n",
            "  0.57892    0.64483  ]\n",
            "brown:  [-0.88497   0.71685  -0.40379  -0.10698   0.81457   1.0258   -1.2698\n",
            " -0.49382  -0.27839  -0.92251  -0.49409   0.78942  -0.20066  -0.057371\n",
            "  0.060682  0.30746   0.13441  -0.49376  -0.54788  -0.81912  -0.45394\n",
            "  0.52098   1.0325   -0.8584   -0.65848  -1.2736    0.23616   1.0486\n",
            "  0.18442  -0.3901    2.1385   -0.45301  -0.16911  -0.46737   0.15938\n",
            " -0.095071 -0.26512  -0.056479  0.63849  -1.0494    0.037507  0.76434\n",
            " -0.6412   -0.59594   0.46589   0.31494  -0.34072  -0.59167  -0.31057\n",
            "  0.73274 ]\n",
            "fox:  [ 0.44206   0.059552  0.15861   0.92777   0.1876    0.24256  -1.593\n",
            " -0.79847  -0.34099  -0.24021  -0.32756   0.43639  -0.11057   0.50472\n",
            "  0.43853   0.19738  -0.1498   -0.046979 -0.83286   0.39878   0.062174\n",
            "  0.28803   0.79134   0.31798  -0.21933  -1.1015   -0.080309  0.39122\n",
            "  0.19503  -0.5936    1.7921    0.3826   -0.30509  -0.58686  -0.76935\n",
            " -0.61914  -0.61771  -0.68484  -0.67919  -0.74626  -0.036646  0.78251\n",
            " -1.0072   -0.59057  -0.7849   -0.39113  -0.49727  -0.4283   -0.15204\n",
            "  1.5064  ]\n",
            "jumps:  [-0.46105   -0.34219    0.71473   -0.29778    0.28839    0.6248\n",
            "  0.36807   -0.072746   0.60476    0.31463   -0.052247  -0.62302\n",
            " -0.56332    0.7855     0.18116   -0.31698    0.38298   -0.081953\n",
            " -1.3658    -0.78263    0.39804   -0.17001   -0.11926   -0.40146\n",
            "  1.1057    -0.51142   -0.36614    0.22177    0.34626   -0.30648\n",
            "  1.3869     0.77328    0.5946     1.2577     0.23472   -0.46087\n",
            " -0.009223   0.44534    0.012732  -0.24749   -0.7142     0.02422\n",
            "  0.083527   0.25088   -0.24259   -1.354      1.5481    -0.31728\n",
            "  0.55305   -0.0028062]\n",
            "over:  [ 0.12972    0.088073   0.24375    0.078102  -0.12783    0.27831\n",
            " -0.48693    0.19649   -0.39558   -0.28362   -0.47425   -0.59317\n",
            " -0.58804   -0.31702    0.49593    0.0087594  0.039613  -0.42495\n",
            " -0.97641   -0.46534    0.020675   0.086042   0.39317   -0.51255\n",
            " -0.17913   -1.8333     0.5622     0.41626    0.075127   0.02189\n",
            "  3.784      0.71067   -0.073943   0.15373   -0.3853    -0.070163\n",
            " -0.35374    0.074501  -0.084228  -0.45548   -0.081068   0.39157\n",
            "  0.173      0.2254    -0.12836    0.40951   -0.26079    0.090912\n",
            " -0.60515   -0.9827   ]\n",
            "the:  [ 4.1800e-01  2.4968e-01 -4.1242e-01  1.2170e-01  3.4527e-01 -4.4457e-02\n",
            " -4.9688e-01 -1.7862e-01 -6.6023e-04 -6.5660e-01  2.7843e-01 -1.4767e-01\n",
            " -5.5677e-01  1.4658e-01 -9.5095e-03  1.1658e-02  1.0204e-01 -1.2792e-01\n",
            " -8.4430e-01 -1.2181e-01 -1.6801e-02 -3.3279e-01 -1.5520e-01 -2.3131e-01\n",
            " -1.9181e-01 -1.8823e+00 -7.6746e-01  9.9051e-02 -4.2125e-01 -1.9526e-01\n",
            "  4.0071e+00 -1.8594e-01 -5.2287e-01 -3.1681e-01  5.9213e-04  7.4449e-03\n",
            "  1.7778e-01 -1.5897e-01  1.2041e-02 -5.4223e-02 -2.9871e-01 -1.5749e-01\n",
            " -3.4758e-01 -4.5637e-02 -4.4251e-01  1.8785e-01  2.7849e-03 -1.8411e-01\n",
            " -1.1514e-01 -7.8581e-01]\n",
            "lazy:  [-0.27611  -0.59712  -0.49227  -1.0372   -0.35878  -0.097425 -0.21014\n",
            " -0.092836 -0.054118  0.4542   -0.53296   0.37602   0.77087   0.79669\n",
            " -0.076608 -0.42515   0.42576   0.32791  -0.21996  -0.20261  -0.85139\n",
            "  0.80547   0.97621   0.9792    1.1118   -0.36062  -0.2588    0.8596\n",
            "  0.73631  -0.18601   1.2376   -0.038938  0.19246   0.52473  -0.04842\n",
            " -0.044149  0.064432  0.087822  0.42232  -0.55991  -0.44096   0.097736\n",
            " -0.17589   1.1799    0.13152  -1.0795    0.45685  -0.63312   1.2752\n",
            "  1.1672  ]\n",
            "dog:  [ 0.11008   -0.38781   -0.57615   -0.27714    0.70521    0.53994\n",
            " -1.0786    -0.40146    1.1504    -0.5678     0.0038977  0.52878\n",
            "  0.64561    0.47262    0.48549   -0.18407    0.1801     0.91397\n",
            " -1.1979    -0.5778    -0.37985    0.33606    0.772      0.75555\n",
            "  0.45506   -1.7671    -1.0503     0.42566    0.41893   -0.68327\n",
            "  1.5673     0.27685   -0.61708    0.64638   -0.076996   0.37118\n",
            "  0.1308    -0.45137    0.25398   -0.74392   -0.086199   0.24068\n",
            " -0.64819    0.83549    1.2502    -0.51379    0.04224   -0.88118\n",
            "  0.7158     0.38519  ]\n"
          ],
          "name": "stdout"
        }
      ]
    },
    {
      "cell_type": "code",
      "metadata": {
        "id": "iztcyBPNbIVd",
        "colab_type": "code",
        "colab": {}
      },
      "source": [
        "# ------------------------------------------------------------- \n",
        "# Define vocabulary size for the language model    \n",
        "# To reduce the size of the vocabulary to the n most frequently used words\n",
        "\n",
        "def default_factory():\n",
        "    return EVOCABSIZE  # last/unknown-word row in limited_index_to_embedding\n",
        "# dictionary has the items() function, returns list of (key, value) tuples\n",
        "limited_word_to_index = defaultdict(default_factory, \\\n",
        "    {k: v for k, v in word_to_index.items() if v < EVOCABSIZE})\n"
      ],
      "execution_count": 0,
      "outputs": []
    },
    {
      "cell_type": "code",
      "metadata": {
        "id": "RB0XpuOWgJGo",
        "colab_type": "code",
        "colab": {}
      },
      "source": [
        "# Select the first EVOCABSIZE rows to the index_to_embedding\n",
        "limited_index_to_embedding = index_to_embedding[0:EVOCABSIZE,:]\n",
        "\n",
        "# Set the unknown-word row to be all zeros as previously\n",
        "limited_index_to_embedding = np.append(limited_index_to_embedding, \n",
        "    index_to_embedding[index_to_embedding.shape[0] - 1, :].\\\n",
        "        reshape(1,embedding_dim), \n",
        "    axis = 0)"
      ],
      "execution_count": 0,
      "outputs": []
    },
    {
      "cell_type": "code",
      "metadata": {
        "id": "V7D5PnQ0gLS9",
        "colab_type": "code",
        "colab": {
          "base_uri": "https://localhost:8080/",
          "height": 1000
        },
        "outputId": "72711243-c74a-4f6c-8bcc-65ceed2a6e4d"
      },
      "source": [
        "# Verify the new vocabulary: should get same embeddings for test sentence\n",
        "# Note that a small EVOCABSIZE may yield some zero vectors for embeddings\n",
        "print('\\nTest sentence embeddings from vocabulary of', EVOCABSIZE, 'words:\\n')\n",
        "for word in words_in_test_sentence:\n",
        "    word_ = word.lower()\n",
        "    embedding = limited_index_to_embedding[limited_word_to_index[word_]]\n",
        "    print(word_ + \": \", embedding)"
      ],
      "execution_count": 22,
      "outputs": [
        {
          "output_type": "stream",
          "text": [
            "\n",
            "Test sentence embeddings from vocabulary of 10000 words:\n",
            "\n",
            "the:  [ 4.1800e-01  2.4968e-01 -4.1242e-01  1.2170e-01  3.4527e-01 -4.4457e-02\n",
            " -4.9688e-01 -1.7862e-01 -6.6023e-04 -6.5660e-01  2.7843e-01 -1.4767e-01\n",
            " -5.5677e-01  1.4658e-01 -9.5095e-03  1.1658e-02  1.0204e-01 -1.2792e-01\n",
            " -8.4430e-01 -1.2181e-01 -1.6801e-02 -3.3279e-01 -1.5520e-01 -2.3131e-01\n",
            " -1.9181e-01 -1.8823e+00 -7.6746e-01  9.9051e-02 -4.2125e-01 -1.9526e-01\n",
            "  4.0071e+00 -1.8594e-01 -5.2287e-01 -3.1681e-01  5.9213e-04  7.4449e-03\n",
            "  1.7778e-01 -1.5897e-01  1.2041e-02 -5.4223e-02 -2.9871e-01 -1.5749e-01\n",
            " -3.4758e-01 -4.5637e-02 -4.4251e-01  1.8785e-01  2.7849e-03 -1.8411e-01\n",
            " -1.1514e-01 -7.8581e-01]\n",
            "quick:  [ 0.13967   -0.53798   -0.18047   -0.25142    0.16203   -0.13868\n",
            " -0.24637    0.75111    0.27264    0.61035   -0.82548    0.038647\n",
            " -0.32361    0.30373   -0.14598   -0.23551    0.39267   -1.1287\n",
            " -0.23636   -1.0629     0.046277   0.29143   -0.25819   -0.094902\n",
            "  0.79478   -1.2095    -0.01039   -0.092086   0.84322   -0.11061\n",
            "  3.0096     0.51652   -0.76986    0.51074    0.37508    0.12156\n",
            "  0.082794   0.43605   -0.1584    -0.61048    0.35006    0.52465\n",
            " -0.51747    0.0034705  0.73625    0.16252    0.85279    0.85268\n",
            "  0.57892    0.64483  ]\n",
            "brown:  [-0.88497   0.71685  -0.40379  -0.10698   0.81457   1.0258   -1.2698\n",
            " -0.49382  -0.27839  -0.92251  -0.49409   0.78942  -0.20066  -0.057371\n",
            "  0.060682  0.30746   0.13441  -0.49376  -0.54788  -0.81912  -0.45394\n",
            "  0.52098   1.0325   -0.8584   -0.65848  -1.2736    0.23616   1.0486\n",
            "  0.18442  -0.3901    2.1385   -0.45301  -0.16911  -0.46737   0.15938\n",
            " -0.095071 -0.26512  -0.056479  0.63849  -1.0494    0.037507  0.76434\n",
            " -0.6412   -0.59594   0.46589   0.31494  -0.34072  -0.59167  -0.31057\n",
            "  0.73274 ]\n",
            "fox:  [ 0.44206   0.059552  0.15861   0.92777   0.1876    0.24256  -1.593\n",
            " -0.79847  -0.34099  -0.24021  -0.32756   0.43639  -0.11057   0.50472\n",
            "  0.43853   0.19738  -0.1498   -0.046979 -0.83286   0.39878   0.062174\n",
            "  0.28803   0.79134   0.31798  -0.21933  -1.1015   -0.080309  0.39122\n",
            "  0.19503  -0.5936    1.7921    0.3826   -0.30509  -0.58686  -0.76935\n",
            " -0.61914  -0.61771  -0.68484  -0.67919  -0.74626  -0.036646  0.78251\n",
            " -1.0072   -0.59057  -0.7849   -0.39113  -0.49727  -0.4283   -0.15204\n",
            "  1.5064  ]\n",
            "jumps:  [0. 0. 0. 0. 0. 0. 0. 0. 0. 0. 0. 0. 0. 0. 0. 0. 0. 0. 0. 0. 0. 0. 0. 0.\n",
            " 0. 0. 0. 0. 0. 0. 0. 0. 0. 0. 0. 0. 0. 0. 0. 0. 0. 0. 0. 0. 0. 0. 0. 0.\n",
            " 0. 0.]\n",
            "over:  [ 0.12972    0.088073   0.24375    0.078102  -0.12783    0.27831\n",
            " -0.48693    0.19649   -0.39558   -0.28362   -0.47425   -0.59317\n",
            " -0.58804   -0.31702    0.49593    0.0087594  0.039613  -0.42495\n",
            " -0.97641   -0.46534    0.020675   0.086042   0.39317   -0.51255\n",
            " -0.17913   -1.8333     0.5622     0.41626    0.075127   0.02189\n",
            "  3.784      0.71067   -0.073943   0.15373   -0.3853    -0.070163\n",
            " -0.35374    0.074501  -0.084228  -0.45548   -0.081068   0.39157\n",
            "  0.173      0.2254    -0.12836    0.40951   -0.26079    0.090912\n",
            " -0.60515   -0.9827   ]\n",
            "the:  [ 4.1800e-01  2.4968e-01 -4.1242e-01  1.2170e-01  3.4527e-01 -4.4457e-02\n",
            " -4.9688e-01 -1.7862e-01 -6.6023e-04 -6.5660e-01  2.7843e-01 -1.4767e-01\n",
            " -5.5677e-01  1.4658e-01 -9.5095e-03  1.1658e-02  1.0204e-01 -1.2792e-01\n",
            " -8.4430e-01 -1.2181e-01 -1.6801e-02 -3.3279e-01 -1.5520e-01 -2.3131e-01\n",
            " -1.9181e-01 -1.8823e+00 -7.6746e-01  9.9051e-02 -4.2125e-01 -1.9526e-01\n",
            "  4.0071e+00 -1.8594e-01 -5.2287e-01 -3.1681e-01  5.9213e-04  7.4449e-03\n",
            "  1.7778e-01 -1.5897e-01  1.2041e-02 -5.4223e-02 -2.9871e-01 -1.5749e-01\n",
            " -3.4758e-01 -4.5637e-02 -4.4251e-01  1.8785e-01  2.7849e-03 -1.8411e-01\n",
            " -1.1514e-01 -7.8581e-01]\n",
            "lazy:  [0. 0. 0. 0. 0. 0. 0. 0. 0. 0. 0. 0. 0. 0. 0. 0. 0. 0. 0. 0. 0. 0. 0. 0.\n",
            " 0. 0. 0. 0. 0. 0. 0. 0. 0. 0. 0. 0. 0. 0. 0. 0. 0. 0. 0. 0. 0. 0. 0. 0.\n",
            " 0. 0.]\n",
            "dog:  [ 0.11008   -0.38781   -0.57615   -0.27714    0.70521    0.53994\n",
            " -1.0786    -0.40146    1.1504    -0.5678     0.0038977  0.52878\n",
            "  0.64561    0.47262    0.48549   -0.18407    0.1801     0.91397\n",
            " -1.1979    -0.5778    -0.37985    0.33606    0.772      0.75555\n",
            "  0.45506   -1.7671    -1.0503     0.42566    0.41893   -0.68327\n",
            "  1.5673     0.27685   -0.61708    0.64638   -0.076996   0.37118\n",
            "  0.1308    -0.45137    0.25398   -0.74392   -0.086199   0.24068\n",
            " -0.64819    0.83549    1.2502    -0.51379    0.04224   -0.88118\n",
            "  0.7158     0.38519  ]\n"
          ],
          "name": "stdout"
        }
      ]
    },
    {
      "cell_type": "code",
      "metadata": {
        "id": "a7ocFaCpbKLM",
        "colab_type": "code",
        "colab": {}
      },
      "source": [
        "# ------------------------------------------------------------\n",
        "# code for working with movie reviews data \n",
        "# Source: Miller, T. W. (2016). Web and Network Data Science.\n",
        "#    Upper Saddle River, N.J.: Pearson Education.\n",
        "#    ISBN-13: 978-0-13-388644-3\n",
        "# This original study used a simple bag-of-words approach\n",
        "# to sentiment analysis, along with pre-defined lists of\n",
        "# negative and positive words.        \n",
        "# Code available at:  https://github.com/mtpa/wnds       \n",
        "# ------------------------------------------------------------\n",
        "\n",
        "# Utility function to get file names within a directory\n",
        "def listdir_no_hidden(path):\n",
        "    start_list = os.listdir(path)\n",
        "    end_list = []\n",
        "    for file in start_list:\n",
        "        if (not file.startswith('.')):\n",
        "            end_list.append(file)\n",
        "    return(end_list)"
      ],
      "execution_count": 0,
      "outputs": []
    },
    {
      "cell_type": "code",
      "metadata": {
        "id": "_FGZvXLgcp17",
        "colab_type": "code",
        "colab": {}
      },
      "source": [
        "# define list of codes to be dropped from document\n",
        "# carriage-returns, line-feeds, tabs\n",
        "codelist = ['\\r', '\\n', '\\t']   "
      ],
      "execution_count": 0,
      "outputs": []
    },
    {
      "cell_type": "code",
      "metadata": {
        "id": "ECTuyN6-ehz-",
        "colab_type": "code",
        "colab": {}
      },
      "source": [
        "# We will not remove stopwords in this exercise because they are\n",
        "# important to keeping sentences intact\n",
        "if REMOVE_STOPWORDS:\n",
        "    print(nltk.corpus.stopwords.words('english'))\n",
        "\n",
        "# previous analysis of a list of top terms showed a number of words, along \n",
        "# with contractions and other word strings to drop from further analysis, add\n",
        "# these to the usual English stopwords to be dropped from a document collection\n",
        "    more_stop_words = ['cant','didnt','doesnt','dont','goes','isnt','hes',\\\n",
        "        'shes','thats','theres','theyre','wont','youll','youre','youve', 'br'\\\n",
        "        've', 're', 'vs'] \n",
        "\n",
        "    some_proper_nouns_to_remove = ['dick','ginger','hollywood','jack',\\\n",
        "        'jill','john','karloff','kudrow','orson','peter','tcm','tom',\\\n",
        "        'toni','welles','william','wolheim','nikita']\n",
        "\n",
        "    # start with the initial list and add to it for movie text work \n",
        "    stoplist = nltk.corpus.stopwords.words('english') + more_stop_words +\\\n",
        "        some_proper_nouns_to_remove"
      ],
      "execution_count": 0,
      "outputs": []
    },
    {
      "cell_type": "code",
      "metadata": {
        "id": "oPrXjschgU4N",
        "colab_type": "code",
        "colab": {}
      },
      "source": [
        "# text parsing function for creating text documents \n",
        "# there is more we could do for data preparation \n",
        "# stemming... looking for contractions... possessives... \n",
        "# but we will work with what we have in this parsing function\n",
        "# if we want to do stemming at a later time, we can use\n",
        "#     porter = nltk.PorterStemmer()  \n",
        "# in a construction like this\n",
        "#     words_stemmed =  [porter.stem(word) for word in initial_words]  \n",
        "def text_parse(string):\n",
        "    # replace non-alphanumeric with space \n",
        "    temp_string = re.sub('[^a-zA-Z]', '  ', string)    \n",
        "    # replace codes with space\n",
        "    for i in range(len(codelist)):\n",
        "        stopstring = ' ' + codelist[i] + '  '\n",
        "        temp_string = re.sub(stopstring, '  ', temp_string)      \n",
        "    # replace single-character words with space\n",
        "    temp_string = re.sub('\\s.\\s', ' ', temp_string)   \n",
        "    # convert uppercase to lowercase\n",
        "    temp_string = temp_string.lower()    \n",
        "    if REMOVE_STOPWORDS:\n",
        "        # replace selected character strings/stop-words with space\n",
        "        for i in range(len(stoplist)):\n",
        "            stopstring = ' ' + str(stoplist[i]) + ' '\n",
        "            temp_string = re.sub(stopstring, ' ', temp_string)        \n",
        "    # replace multiple blank characters with one blank character\n",
        "    temp_string = re.sub('\\s+', ' ', temp_string)    \n",
        "    return(temp_string)  "
      ],
      "execution_count": 0,
      "outputs": []
    },
    {
      "cell_type": "code",
      "metadata": {
        "id": "HV8LQ0tljC-g",
        "colab_type": "code",
        "colab": {
          "base_uri": "https://localhost:8080/",
          "height": 34
        },
        "outputId": "182395f1-51d3-4c3f-fc1c-4e7fae417536"
      },
      "source": [
        "print(os.getcwd())"
      ],
      "execution_count": 27,
      "outputs": [
        {
          "output_type": "stream",
          "text": [
            "/content\n"
          ],
          "name": "stdout"
        }
      ]
    },
    {
      "cell_type": "code",
      "metadata": {
        "id": "gBePq8HEgWkb",
        "colab_type": "code",
        "colab": {
          "base_uri": "https://localhost:8080/",
          "height": 68
        },
        "outputId": "ce1e3867-d020-4109-a292-25884d497c6f"
      },
      "source": [
        "# -----------------------------------------------\n",
        "# Download and install both negtive and positive movies reviews from the Technology Resources Section \n",
        "# within the Jump Start Program for Assignment 8 Module. This entails saving the 'movie-reviews-negative'\n",
        "# and 'movie-reviews-positive' directories from the run-jump-start-rnn-sentiment-v002.zip \n",
        "# or  run-jump-start-rnn-sentiment-big-v002.zip file to your working directory\n",
        "# -----------------------------------------------\n",
        "\n",
        "# -----------------------------------------------\n",
        "# gather data for 500 negative movie reviews\n",
        "# -----------------------------------------------\n",
        "\n",
        "# Set path to the negative word dictionary, \"moive-reviews-negative\"\n",
        "dir_name = 'movie-reviews-negative'\n",
        "filenames = listdir_no_hidden(path=dir_name)\n",
        "num_files = len(filenames)\n",
        "\n",
        "for i in range(len(filenames)):\n",
        "    file_exists = os.path.isfile(os.path.join(dir_name, filenames[i]))\n",
        "    assert file_exists\n",
        "print('\\nDirectory:',dir_name)    \n",
        "print('%d files found' % len(filenames))"
      ],
      "execution_count": 41,
      "outputs": [
        {
          "output_type": "stream",
          "text": [
            "\n",
            "Directory: movie-reviews-negative\n",
            "500 files found\n"
          ],
          "name": "stdout"
        }
      ]
    },
    {
      "cell_type": "code",
      "metadata": {
        "id": "0c38QUr9gZBP",
        "colab_type": "code",
        "colab": {
          "base_uri": "https://localhost:8080/",
          "height": 51
        },
        "outputId": "7b3c0e99-23a8-4c6a-c694-dafc2d8f6d34"
      },
      "source": [
        "# Read data for negative movie reviews\n",
        "# Data will be stored in a list of lists where the each list represents \n",
        "# a document and document is a list of words.\n",
        "# We then break the text into words.\n",
        "\n",
        "def read_data(filename):\n",
        "\n",
        "  with open(filename, encoding='utf-8') as f:\n",
        "    data = tf.compat.as_str(f.read())\n",
        "    data = data.lower()\n",
        "    data = text_parse(data)\n",
        "    data = TreebankWordTokenizer().tokenize(data)  # The Penn Treebank\n",
        "\n",
        "  return data\n",
        "\n",
        "negative_documents = []\n",
        "\n",
        "print('\\nProcessing document files under', dir_name)\n",
        "for i in range(num_files):\n",
        "    ## print(' ', filenames[i])\n",
        "\n",
        "    words = read_data(os.path.join(dir_name, filenames[i]))\n",
        "\n",
        "    negative_documents.append(words)\n",
        "    # print('Data size (Characters) (Document %d) %d' %(i,len(words)))\n",
        "    # print('Sample string (Document %d) %s'%(i,words[:50]))\n"
      ],
      "execution_count": 42,
      "outputs": [
        {
          "output_type": "stream",
          "text": [
            "\n",
            "Processing document files under movie-reviews-negative\n"
          ],
          "name": "stdout"
        }
      ]
    },
    {
      "cell_type": "code",
      "metadata": {
        "id": "8E9Qp2DBmRMN",
        "colab_type": "code",
        "colab": {
          "base_uri": "https://localhost:8080/",
          "height": 68
        },
        "outputId": "8edef014-5828-4d0f-9dc7-e0063205e986"
      },
      "source": [
        "# -----------------------------------------------\n",
        "# gather data for 500 positive movie reviews\n",
        "# -----------------------------------------------\n",
        "\n",
        "# Set path to the positive word dictionary, \"moive-reviews-positive\"\n",
        "dir_name = 'movie-reviews-positive'  \n",
        "filenames = listdir_no_hidden(path=dir_name)\n",
        "num_files = len(filenames)\n",
        "\n",
        "for i in range(len(filenames)):\n",
        "    file_exists = os.path.isfile(os.path.join(dir_name, filenames[i]))\n",
        "    assert file_exists\n",
        "print('\\nDirectory:',dir_name)    \n",
        "print('%d files found' % len(filenames))"
      ],
      "execution_count": 43,
      "outputs": [
        {
          "output_type": "stream",
          "text": [
            "\n",
            "Directory: movie-reviews-positive\n",
            "500 files found\n"
          ],
          "name": "stdout"
        }
      ]
    },
    {
      "cell_type": "code",
      "metadata": {
        "id": "2BbO9e3EmTsL",
        "colab_type": "code",
        "colab": {
          "base_uri": "https://localhost:8080/",
          "height": 51
        },
        "outputId": "f60f9352-80db-4d38-abac-76d7852665a5"
      },
      "source": [
        "# Read data for positive movie reviews\n",
        "# Data will be stored in a list of lists where the each list \n",
        "# represents a document and document is a list of words.\n",
        "# We then break the text into words.\n",
        "\n",
        "def read_data(filename):\n",
        "\n",
        "  with open(filename, encoding='utf-8') as f:\n",
        "    data = tf.compat.as_str(f.read())\n",
        "    data = data.lower()\n",
        "    data = text_parse(data)\n",
        "    data = TreebankWordTokenizer().tokenize(data)  # The Penn Treebank\n",
        "\n",
        "  return data\n",
        "\n",
        "positive_documents = []\n",
        "\n",
        "print('\\nProcessing document files under', dir_name)\n",
        "for i in range(num_files):\n",
        "    ## print(' ', filenames[i])\n",
        "\n",
        "    words = read_data(os.path.join(dir_name, filenames[i]))\n",
        "\n",
        "    positive_documents.append(words)\n",
        "    # print('Data size (Characters) (Document %d) %d' %(i,len(words)))\n",
        "    # print('Sample string (Document %d) %s'%(i,words[:50]))\n"
      ],
      "execution_count": 44,
      "outputs": [
        {
          "output_type": "stream",
          "text": [
            "\n",
            "Processing document files under movie-reviews-positive\n"
          ],
          "name": "stdout"
        }
      ]
    },
    {
      "cell_type": "code",
      "metadata": {
        "id": "wn7f8uggnCga",
        "colab_type": "code",
        "colab": {
          "base_uri": "https://localhost:8080/",
          "height": 51
        },
        "outputId": "83e6b781-d0a3-4c78-b873-82628060dd70"
      },
      "source": [
        "# -----------------------------------------------------\n",
        "# convert positive/negative documents into numpy array\n",
        "# note that reviews vary from 22 to 1052 words   \n",
        "# so we use the first 20 and last 20 words of each review \n",
        "# as our word sequences for analysis\n",
        "# -----------------------------------------------------\n",
        "\n",
        "max_review_length = 0  # initialize\n",
        "for doc in negative_documents:\n",
        "    max_review_length = max(max_review_length, len(doc))    \n",
        "for doc in positive_documents:\n",
        "    max_review_length = max(max_review_length, len(doc)) \n",
        "print('max_review_length:', max_review_length) \n",
        "\n",
        "min_review_length = max_review_length  # initialize\n",
        "for doc in negative_documents:\n",
        "    min_review_length = min(min_review_length, len(doc))    \n",
        "for doc in positive_documents:\n",
        "    min_review_length = min(min_review_length, len(doc)) \n",
        "print('min_review_length:', min_review_length) "
      ],
      "execution_count": 45,
      "outputs": [
        {
          "output_type": "stream",
          "text": [
            "max_review_length: 1052\n",
            "min_review_length: 22\n"
          ],
          "name": "stdout"
        }
      ]
    },
    {
      "cell_type": "code",
      "metadata": {
        "id": "0qz77iPw_Ko-",
        "colab_type": "code",
        "colab": {}
      },
      "source": [
        "# construct list of 1000 lists with 40 words in each list\n",
        "from itertools import chain\n",
        "documents = []\n",
        "for doc in negative_documents:\n",
        "    doc_begin = doc[0:20]\n",
        "    doc_end = doc[len(doc) - 20: len(doc)]\n",
        "    documents.append(list(chain(*[doc_begin, doc_end])))    \n",
        "for doc in positive_documents:\n",
        "    doc_begin = doc[0:20]\n",
        "    doc_end = doc[len(doc) - 20: len(doc)]\n",
        "    documents.append(list(chain(*[doc_begin, doc_end])))"
      ],
      "execution_count": 0,
      "outputs": []
    },
    {
      "cell_type": "markdown",
      "metadata": {
        "id": "0I6iZZDhyyeN",
        "colab_type": "text"
      },
      "source": [
        "## 1.3 Get Word Embeddings from Glove"
      ]
    },
    {
      "cell_type": "code",
      "metadata": {
        "id": "3o0Q0QuszBOl",
        "colab_type": "code",
        "colab": {}
      },
      "source": [
        "vocabulary_size = 10000   #specify desired size of pre-defined embedding vocabulary \n",
        "\n",
        "tokenizer = Tokenizer(num_words= vocabulary_size)\n",
        "tokenizer.fit_on_texts(documents)\n",
        "\n",
        "# integer encode the documents\n",
        "sequences = tokenizer.texts_to_sequences(documents)\n",
        "embeddings = pad_sequences(sequences, maxlen=50)"
      ],
      "execution_count": 0,
      "outputs": []
    },
    {
      "cell_type": "code",
      "metadata": {
        "id": "Zfo66vx-zGWw",
        "colab_type": "code",
        "colab": {
          "base_uri": "https://localhost:8080/",
          "height": 34
        },
        "outputId": "281abbd9-593a-4d48-b802-37794bc9f1d1"
      },
      "source": [
        "embeddings_index = dict()\n",
        "f = open('embeddings/gloVe.6B/glove.6B.50d.txt', encoding=\"utf8\")\n",
        "for line in f:\n",
        "    values = line.split()\n",
        "    word = values[0]\n",
        "    coefs = np.asarray(values[1:], dtype='float32')\n",
        "    embeddings_index[word] = coefs\n",
        "f.close()\n",
        "print('Loaded %s word vectors.' % len(embeddings_index))"
      ],
      "execution_count": 48,
      "outputs": [
        {
          "output_type": "stream",
          "text": [
            "Loaded 400000 word vectors.\n"
          ],
          "name": "stdout"
        }
      ]
    },
    {
      "cell_type": "code",
      "metadata": {
        "id": "G3rfJVlYzMOk",
        "colab_type": "code",
        "colab": {}
      },
      "source": [
        "# create a weight matrix for words in training docs\n",
        "embedding_matrix = np.zeros((vocabulary_size, 50))\n",
        "for word, index in tokenizer.word_index.items():\n",
        "    if index > vocabulary_size - 1:\n",
        "        break\n",
        "    else:\n",
        "        embedding_vector = embeddings_index.get(word)\n",
        "        if embedding_vector is not None:\n",
        "            embedding_matrix[index] = embedding_vector"
      ],
      "execution_count": 0,
      "outputs": []
    },
    {
      "cell_type": "code",
      "metadata": {
        "id": "tdSPpwG9zPDh",
        "colab_type": "code",
        "colab": {}
      },
      "source": [
        "# -----------------------------------------------------    \n",
        "# Make embeddings a numpy array for use in an RNN \n",
        "# Create training and test sets with Scikit Learn\n",
        "# -----------------------------------------------------\n",
        "RANDOM_SEED = 9999\n",
        "\n",
        "embeddings_array = np.array(embeddings)\n",
        "\n",
        "# Define the labels to be used 500 negative (0) and 500 positive (1)\n",
        "thumbs_down_up = np.concatenate((np.zeros((500), dtype = np.int32), \n",
        "                      np.ones((500), dtype = np.int32)), axis = 0)\n",
        "\n",
        "# Scikit Learn for random splitting of the data  \n",
        "from sklearn.model_selection import train_test_split\n",
        "\n",
        "# Random splitting of the data in to training (80%) and test (20%)  \n",
        "X_train, X_test, y_train, y_test = \\\n",
        "    train_test_split(embeddings_array, thumbs_down_up, test_size=0.20, \n",
        "                     random_state = RANDOM_SEED)"
      ],
      "execution_count": 0,
      "outputs": []
    },
    {
      "cell_type": "code",
      "metadata": {
        "id": "s-e7r9hQzRHi",
        "colab_type": "code",
        "colab": {
          "base_uri": "https://localhost:8080/",
          "height": 34
        },
        "outputId": "3e15a3b1-a440-42b7-8e63-965ab4cbf20a"
      },
      "source": [
        "X_train.shape"
      ],
      "execution_count": 51,
      "outputs": [
        {
          "output_type": "execute_result",
          "data": {
            "text/plain": [
              "(800, 50)"
            ]
          },
          "metadata": {
            "tags": []
          },
          "execution_count": 51
        }
      ]
    },
    {
      "cell_type": "code",
      "metadata": {
        "id": "PSC11TxWzSyr",
        "colab_type": "code",
        "colab": {
          "base_uri": "https://localhost:8080/",
          "height": 34
        },
        "outputId": "aefec17a-bf84-44eb-9af4-46d5183f8093"
      },
      "source": [
        "y_train.shape"
      ],
      "execution_count": 52,
      "outputs": [
        {
          "output_type": "execute_result",
          "data": {
            "text/plain": [
              "(800,)"
            ]
          },
          "metadata": {
            "tags": []
          },
          "execution_count": 52
        }
      ]
    },
    {
      "cell_type": "markdown",
      "metadata": {
        "id": "b1kEYQW3nxOo",
        "colab_type": "text"
      },
      "source": [
        "# 2. Model Setup"
      ]
    },
    {
      "cell_type": "code",
      "metadata": {
        "id": "YvwnD3rtpLqI",
        "colab_type": "code",
        "colab": {}
      },
      "source": [
        "# To make output stable across runs\n",
        "def reset_graph(seed= RANDOM_SEED):\n",
        "    tf.reset_default_graph()\n",
        "    tf.set_random_seed(seed)\n",
        "    np.random.seed(seed)"
      ],
      "execution_count": 0,
      "outputs": []
    },
    {
      "cell_type": "code",
      "metadata": {
        "id": "_rBN7AC3nhm0",
        "colab_type": "code",
        "colab": {}
      },
      "source": [
        "#Training base model by using RNN backpropagation through time (BPTT).\n",
        "reset_graph() # Refresh graph to make output stable across runs"
      ],
      "execution_count": 0,
      "outputs": []
    },
    {
      "cell_type": "markdown",
      "metadata": {
        "id": "zlpg1kqZC27z",
        "colab_type": "text"
      },
      "source": [
        "## 2.1 RNN with LSTM\n",
        "Vocabulary size 10,000"
      ]
    },
    {
      "cell_type": "code",
      "metadata": {
        "id": "VhIWH2IQvBPT",
        "colab_type": "code",
        "colab": {
          "base_uri": "https://localhost:8080/",
          "height": 598
        },
        "outputId": "a0085e03-1053-405f-b6d4-a4977bdf4b53"
      },
      "source": [
        "model = Sequential()\n",
        "model.add(Embedding(EVOCABSIZE, 50, input_length=50, trainable=False))\n",
        "model.add(Dropout(0.2))\n",
        "model.add(Conv1D(64, 5, activation='relu'))\n",
        "model.add(MaxPooling1D(pool_size=4))\n",
        "model.add(LSTM(50, dropout=0.2, recurrent_dropout=0.2, return_sequences=False))\n",
        "model.add(Dense(1, activation='sigmoid'))\n",
        "model.summary()"
      ],
      "execution_count": 55,
      "outputs": [
        {
          "output_type": "stream",
          "text": [
            "WARNING:tensorflow:From /usr/local/lib/python3.6/dist-packages/keras/backend/tensorflow_backend.py:66: The name tf.get_default_graph is deprecated. Please use tf.compat.v1.get_default_graph instead.\n",
            "\n",
            "WARNING:tensorflow:From /usr/local/lib/python3.6/dist-packages/keras/backend/tensorflow_backend.py:541: The name tf.placeholder is deprecated. Please use tf.compat.v1.placeholder instead.\n",
            "\n",
            "WARNING:tensorflow:From /usr/local/lib/python3.6/dist-packages/keras/backend/tensorflow_backend.py:4432: The name tf.random_uniform is deprecated. Please use tf.random.uniform instead.\n",
            "\n",
            "WARNING:tensorflow:From /usr/local/lib/python3.6/dist-packages/keras/backend/tensorflow_backend.py:148: The name tf.placeholder_with_default is deprecated. Please use tf.compat.v1.placeholder_with_default instead.\n",
            "\n",
            "WARNING:tensorflow:From /usr/local/lib/python3.6/dist-packages/keras/backend/tensorflow_backend.py:3733: calling dropout (from tensorflow.python.ops.nn_ops) with keep_prob is deprecated and will be removed in a future version.\n",
            "Instructions for updating:\n",
            "Please use `rate` instead of `keep_prob`. Rate should be set to `rate = 1 - keep_prob`.\n",
            "WARNING:tensorflow:From /usr/local/lib/python3.6/dist-packages/keras/backend/tensorflow_backend.py:4267: The name tf.nn.max_pool is deprecated. Please use tf.nn.max_pool2d instead.\n",
            "\n",
            "Model: \"sequential_1\"\n",
            "_________________________________________________________________\n",
            "Layer (type)                 Output Shape              Param #   \n",
            "=================================================================\n",
            "embedding_1 (Embedding)      (None, 50, 50)            500000    \n",
            "_________________________________________________________________\n",
            "dropout_1 (Dropout)          (None, 50, 50)            0         \n",
            "_________________________________________________________________\n",
            "conv1d_1 (Conv1D)            (None, 46, 64)            16064     \n",
            "_________________________________________________________________\n",
            "max_pooling1d_1 (MaxPooling1 (None, 11, 64)            0         \n",
            "_________________________________________________________________\n",
            "lstm_1 (LSTM)                (None, 50)                23000     \n",
            "_________________________________________________________________\n",
            "dense_1 (Dense)              (None, 1)                 51        \n",
            "=================================================================\n",
            "Total params: 539,115\n",
            "Trainable params: 39,115\n",
            "Non-trainable params: 500,000\n",
            "_________________________________________________________________\n"
          ],
          "name": "stdout"
        }
      ]
    },
    {
      "cell_type": "code",
      "metadata": {
        "id": "y3_P0wgnvUl8",
        "colab_type": "code",
        "colab": {
          "base_uri": "https://localhost:8080/",
          "height": 1000
        },
        "outputId": "2561e8f6-cd35-472d-f799-4485bf537d80"
      },
      "source": [
        "# try using different optimizers and different optimizer configs\n",
        "model.compile(loss='binary_crossentropy',\n",
        "              optimizer='adam',\n",
        "              metrics=['accuracy'])\n",
        "\n",
        "history = model.fit(X_train, y_train, epochs=30, validation_data=(X_test, y_test))"
      ],
      "execution_count": 56,
      "outputs": [
        {
          "output_type": "stream",
          "text": [
            "WARNING:tensorflow:From /usr/local/lib/python3.6/dist-packages/keras/optimizers.py:793: The name tf.train.Optimizer is deprecated. Please use tf.compat.v1.train.Optimizer instead.\n",
            "\n",
            "WARNING:tensorflow:From /usr/local/lib/python3.6/dist-packages/keras/backend/tensorflow_backend.py:3657: The name tf.log is deprecated. Please use tf.math.log instead.\n",
            "\n",
            "WARNING:tensorflow:From /usr/local/lib/python3.6/dist-packages/tensorflow_core/python/ops/nn_impl.py:183: where (from tensorflow.python.ops.array_ops) is deprecated and will be removed in a future version.\n",
            "Instructions for updating:\n",
            "Use tf.where in 2.0, which has the same broadcast rule as np.where\n",
            "WARNING:tensorflow:From /usr/local/lib/python3.6/dist-packages/keras/backend/tensorflow_backend.py:1033: The name tf.assign_add is deprecated. Please use tf.compat.v1.assign_add instead.\n",
            "\n",
            "WARNING:tensorflow:From /usr/local/lib/python3.6/dist-packages/keras/backend/tensorflow_backend.py:1020: The name tf.assign is deprecated. Please use tf.compat.v1.assign instead.\n",
            "\n",
            "WARNING:tensorflow:From /usr/local/lib/python3.6/dist-packages/keras/backend/tensorflow_backend.py:3005: The name tf.Session is deprecated. Please use tf.compat.v1.Session instead.\n",
            "\n",
            "Train on 800 samples, validate on 200 samples\n",
            "Epoch 1/30\n",
            "WARNING:tensorflow:From /usr/local/lib/python3.6/dist-packages/keras/backend/tensorflow_backend.py:190: The name tf.get_default_session is deprecated. Please use tf.compat.v1.get_default_session instead.\n",
            "\n",
            "WARNING:tensorflow:From /usr/local/lib/python3.6/dist-packages/keras/backend/tensorflow_backend.py:197: The name tf.ConfigProto is deprecated. Please use tf.compat.v1.ConfigProto instead.\n",
            "\n",
            "WARNING:tensorflow:From /usr/local/lib/python3.6/dist-packages/keras/backend/tensorflow_backend.py:207: The name tf.global_variables is deprecated. Please use tf.compat.v1.global_variables instead.\n",
            "\n",
            "WARNING:tensorflow:From /usr/local/lib/python3.6/dist-packages/keras/backend/tensorflow_backend.py:216: The name tf.is_variable_initialized is deprecated. Please use tf.compat.v1.is_variable_initialized instead.\n",
            "\n",
            "WARNING:tensorflow:From /usr/local/lib/python3.6/dist-packages/keras/backend/tensorflow_backend.py:223: The name tf.variables_initializer is deprecated. Please use tf.compat.v1.variables_initializer instead.\n",
            "\n",
            "800/800 [==============================] - 2s 3ms/step - loss: 0.6939 - acc: 0.4850 - val_loss: 0.6932 - val_acc: 0.4650\n",
            "Epoch 2/30\n",
            "800/800 [==============================] - 1s 774us/step - loss: 0.6923 - acc: 0.5212 - val_loss: 0.6943 - val_acc: 0.4700\n",
            "Epoch 3/30\n",
            "800/800 [==============================] - 1s 794us/step - loss: 0.6905 - acc: 0.5437 - val_loss: 0.6929 - val_acc: 0.4700\n",
            "Epoch 4/30\n",
            "800/800 [==============================] - 1s 800us/step - loss: 0.6880 - acc: 0.5413 - val_loss: 0.6908 - val_acc: 0.5500\n",
            "Epoch 5/30\n",
            "800/800 [==============================] - 1s 843us/step - loss: 0.6819 - acc: 0.5825 - val_loss: 0.6890 - val_acc: 0.5450\n",
            "Epoch 6/30\n",
            "800/800 [==============================] - 1s 812us/step - loss: 0.6727 - acc: 0.6025 - val_loss: 0.6995 - val_acc: 0.5000\n",
            "Epoch 7/30\n",
            "800/800 [==============================] - 1s 765us/step - loss: 0.6571 - acc: 0.6275 - val_loss: 0.6869 - val_acc: 0.5700\n",
            "Epoch 8/30\n",
            "800/800 [==============================] - 1s 789us/step - loss: 0.6264 - acc: 0.6375 - val_loss: 0.6767 - val_acc: 0.5450\n",
            "Epoch 9/30\n",
            "800/800 [==============================] - 1s 748us/step - loss: 0.6165 - acc: 0.6487 - val_loss: 0.6808 - val_acc: 0.5350\n",
            "Epoch 10/30\n",
            "800/800 [==============================] - 1s 678us/step - loss: 0.6051 - acc: 0.6737 - val_loss: 0.6781 - val_acc: 0.5650\n",
            "Epoch 11/30\n",
            "800/800 [==============================] - 1s 760us/step - loss: 0.5960 - acc: 0.6837 - val_loss: 0.6952 - val_acc: 0.5750\n",
            "Epoch 12/30\n",
            "800/800 [==============================] - 1s 826us/step - loss: 0.5625 - acc: 0.7250 - val_loss: 0.6910 - val_acc: 0.5850\n",
            "Epoch 13/30\n",
            "800/800 [==============================] - 1s 772us/step - loss: 0.5425 - acc: 0.7275 - val_loss: 0.6832 - val_acc: 0.5900\n",
            "Epoch 14/30\n",
            "800/800 [==============================] - 1s 790us/step - loss: 0.5243 - acc: 0.7450 - val_loss: 0.7232 - val_acc: 0.5500\n",
            "Epoch 15/30\n",
            "800/800 [==============================] - 1s 767us/step - loss: 0.4738 - acc: 0.7900 - val_loss: 0.6995 - val_acc: 0.5900\n",
            "Epoch 16/30\n",
            "800/800 [==============================] - 1s 776us/step - loss: 0.4564 - acc: 0.7875 - val_loss: 0.7180 - val_acc: 0.6150\n",
            "Epoch 17/30\n",
            "800/800 [==============================] - 1s 771us/step - loss: 0.4128 - acc: 0.8225 - val_loss: 0.6898 - val_acc: 0.6050\n",
            "Epoch 18/30\n",
            "800/800 [==============================] - 1s 768us/step - loss: 0.3584 - acc: 0.8500 - val_loss: 0.7560 - val_acc: 0.5700\n",
            "Epoch 19/30\n",
            "800/800 [==============================] - 1s 733us/step - loss: 0.3325 - acc: 0.8588 - val_loss: 0.7147 - val_acc: 0.6300\n",
            "Epoch 20/30\n",
            "800/800 [==============================] - 1s 786us/step - loss: 0.3357 - acc: 0.8612 - val_loss: 0.7163 - val_acc: 0.6000\n",
            "Epoch 21/30\n",
            "800/800 [==============================] - 1s 792us/step - loss: 0.3190 - acc: 0.8825 - val_loss: 0.7094 - val_acc: 0.5950\n",
            "Epoch 22/30\n",
            "800/800 [==============================] - 1s 811us/step - loss: 0.2505 - acc: 0.9000 - val_loss: 0.7719 - val_acc: 0.6200\n",
            "Epoch 23/30\n",
            "800/800 [==============================] - 1s 794us/step - loss: 0.2350 - acc: 0.9100 - val_loss: 0.7874 - val_acc: 0.6050\n",
            "Epoch 24/30\n",
            "800/800 [==============================] - 1s 793us/step - loss: 0.2694 - acc: 0.8875 - val_loss: 0.7737 - val_acc: 0.5900\n",
            "Epoch 25/30\n",
            "800/800 [==============================] - 1s 778us/step - loss: 0.2131 - acc: 0.9187 - val_loss: 0.9102 - val_acc: 0.6050\n",
            "Epoch 26/30\n",
            "800/800 [==============================] - 1s 813us/step - loss: 0.1798 - acc: 0.9325 - val_loss: 0.7966 - val_acc: 0.6000\n",
            "Epoch 27/30\n",
            "800/800 [==============================] - 1s 796us/step - loss: 0.1740 - acc: 0.9375 - val_loss: 0.8227 - val_acc: 0.6050\n",
            "Epoch 28/30\n",
            "800/800 [==============================] - 1s 763us/step - loss: 0.1817 - acc: 0.9187 - val_loss: 0.8566 - val_acc: 0.6050\n",
            "Epoch 29/30\n",
            "800/800 [==============================] - 1s 818us/step - loss: 0.1488 - acc: 0.9462 - val_loss: 0.9208 - val_acc: 0.6200\n",
            "Epoch 30/30\n",
            "800/800 [==============================] - 1s 810us/step - loss: 0.1508 - acc: 0.9450 - val_loss: 0.9402 - val_acc: 0.6100\n"
          ],
          "name": "stdout"
        }
      ]
    },
    {
      "cell_type": "code",
      "metadata": {
        "id": "0X4p7Q-TvbGk",
        "colab_type": "code",
        "colab": {
          "base_uri": "https://localhost:8080/",
          "height": 119
        },
        "outputId": "d8557905-2757-493f-90ca-9ab6e5018973"
      },
      "source": [
        "batch_size = 64\n",
        "\n",
        "score, acc = model.evaluate(X_train, y_train, batch_size=batch_size)\n",
        "print('Train score:', score)\n",
        "print('Train accuracy:', acc)\n",
        "\n",
        "score, acc = model.evaluate(X_test, y_test, batch_size=batch_size)\n",
        "print('Test score:', score)\n",
        "print('Test accuracy:', acc)"
      ],
      "execution_count": 57,
      "outputs": [
        {
          "output_type": "stream",
          "text": [
            "800/800 [==============================] - 0s 127us/step\n",
            "Train score: 0.02852854400873184\n",
            "Train accuracy: 1.0\n",
            "200/200 [==============================] - 0s 141us/step\n",
            "Test score: 0.9401653575897216\n",
            "Test accuracy: 0.61\n"
          ],
          "name": "stdout"
        }
      ]
    },
    {
      "cell_type": "code",
      "metadata": {
        "id": "XQwsFqHRzqj2",
        "colab_type": "code",
        "colab": {
          "base_uri": "https://localhost:8080/",
          "height": 265
        },
        "outputId": "64252f59-c3ad-48c7-a0b5-e06236177a73"
      },
      "source": [
        "# Plot the accuracy curves for training and validation \n",
        "pyplot.plot(history.history['acc'], color='b', label=\"Training accuracy\")\n",
        "pyplot.plot(history.history['val_acc'], color='r',label=\"Validation accuracy\")\n",
        "legend = pyplot.legend(loc='best', shadow=True)"
      ],
      "execution_count": 58,
      "outputs": [
        {
          "output_type": "display_data",
          "data": {
            "image/png": "[encoded data removed]",
            "text/plain": [
              "<Figure size 432x288 with 1 Axes>"
            ]
          },
          "metadata": {
            "tags": []
          }
        }
      ]
    },
    {
      "cell_type": "markdown",
      "metadata": {
        "id": "Y4laAAz3z2GR",
        "colab_type": "text"
      },
      "source": [
        "## 2.2 RNN with LSTM\n",
        "Embedded vocabulary size increased to 30,000"
      ]
    },
    {
      "cell_type": "code",
      "metadata": {
        "id": "cXUtH-tVzvbe",
        "colab_type": "code",
        "colab": {}
      },
      "source": [
        "vocabulary_size = 30000   #specify desired size of pre-defined embedding vocabulary \n",
        "\n",
        "tokenizer = Tokenizer(num_words= vocabulary_size)\n",
        "tokenizer.fit_on_texts(documents)\n",
        "\n",
        "# integer encode the documents\n",
        "sequences = tokenizer.texts_to_sequences(documents)\n",
        "embeddings = pad_sequences(sequences, maxlen=50)"
      ],
      "execution_count": 0,
      "outputs": []
    },
    {
      "cell_type": "code",
      "metadata": {
        "id": "IAtU0KFd0D5L",
        "colab_type": "code",
        "colab": {
          "base_uri": "https://localhost:8080/",
          "height": 34
        },
        "outputId": "f1c19ccf-3e25-4df1-aa5c-da875b94ed4a"
      },
      "source": [
        "embeddings_index = dict()\n",
        "f = open('embeddings/gloVe.6B/glove.6B.50d.txt', encoding=\"utf8\")\n",
        "for line in f:\n",
        "    values = line.split()\n",
        "    word = values[0]\n",
        "    coefs = np.asarray(values[1:], dtype='float32')\n",
        "    embeddings_index[word] = coefs\n",
        "f.close()\n",
        "print('Loaded %s word vectors.' % len(embeddings_index))\n",
        "\n",
        "# create a weight matrix for words in training docs\n",
        "embedding_matrix = np.zeros((vocabulary_size, 50))\n",
        "for word, index in tokenizer.word_index.items():\n",
        "    if index > vocabulary_size - 1:\n",
        "        break\n",
        "    else:\n",
        "        embedding_vector = embeddings_index.get(word)\n",
        "        if embedding_vector is not None:\n",
        "            embedding_matrix[index] = embedding_vector"
      ],
      "execution_count": 60,
      "outputs": [
        {
          "output_type": "stream",
          "text": [
            "Loaded 400000 word vectors.\n"
          ],
          "name": "stdout"
        }
      ]
    },
    {
      "cell_type": "code",
      "metadata": {
        "id": "3M1uaLQj0FcS",
        "colab_type": "code",
        "colab": {}
      },
      "source": [
        "# -----------------------------------------------------    \n",
        "# Make embeddings a numpy array for use in an RNN \n",
        "# Create training and test sets with Scikit Learn\n",
        "# -----------------------------------------------------\n",
        "RANDOM_SEED = 9999\n",
        "\n",
        "embeddings_array = np.array(embeddings)\n",
        "\n",
        "# Define the labels to be used 500 negative (0) and 500 positive (1)\n",
        "thumbs_down_up = np.concatenate((np.zeros((500), dtype = np.int32), \n",
        "                      np.ones((500), dtype = np.int32)), axis = 0)\n",
        "\n",
        "# Scikit Learn for random splitting of the data  \n",
        "from sklearn.model_selection import train_test_split\n",
        "\n",
        "# Random splitting of the data in to training (80%) and test (20%)  \n",
        "X_train, X_test, y_train, y_test = \\\n",
        "    train_test_split(embeddings_array, thumbs_down_up, test_size=0.20, \n",
        "                     random_state = RANDOM_SEED)"
      ],
      "execution_count": 0,
      "outputs": []
    },
    {
      "cell_type": "code",
      "metadata": {
        "id": "UCoHykZB0IBK",
        "colab_type": "code",
        "colab": {
          "base_uri": "https://localhost:8080/",
          "height": 357
        },
        "outputId": "364385ab-54eb-4489-c303-e8f7f2dcea31"
      },
      "source": [
        "model = Sequential()\n",
        "model.add(Embedding(vocabulary_size, 50, input_length=50, trainable=False))\n",
        "model.add(Dropout(0.2))\n",
        "model.add(Conv1D(64, 5, activation='relu'))\n",
        "model.add(MaxPooling1D(pool_size=4))\n",
        "model.add(LSTM(50, dropout=0.2, recurrent_dropout=0.2, return_sequences=False))\n",
        "model.add(Dense(1, activation='sigmoid'))\n",
        "model.summary()"
      ],
      "execution_count": 62,
      "outputs": [
        {
          "output_type": "stream",
          "text": [
            "Model: \"sequential_2\"\n",
            "_________________________________________________________________\n",
            "Layer (type)                 Output Shape              Param #   \n",
            "=================================================================\n",
            "embedding_2 (Embedding)      (None, 50, 50)            1500000   \n",
            "_________________________________________________________________\n",
            "dropout_2 (Dropout)          (None, 50, 50)            0         \n",
            "_________________________________________________________________\n",
            "conv1d_2 (Conv1D)            (None, 46, 64)            16064     \n",
            "_________________________________________________________________\n",
            "max_pooling1d_2 (MaxPooling1 (None, 11, 64)            0         \n",
            "_________________________________________________________________\n",
            "lstm_2 (LSTM)                (None, 50)                23000     \n",
            "_________________________________________________________________\n",
            "dense_2 (Dense)              (None, 1)                 51        \n",
            "=================================================================\n",
            "Total params: 1,539,115\n",
            "Trainable params: 39,115\n",
            "Non-trainable params: 1,500,000\n",
            "_________________________________________________________________\n"
          ],
          "name": "stdout"
        }
      ]
    },
    {
      "cell_type": "code",
      "metadata": {
        "id": "Z8lALTsQ0Jvz",
        "colab_type": "code",
        "colab": {
          "base_uri": "https://localhost:8080/",
          "height": 1000
        },
        "outputId": "442310ed-bbfa-456e-9114-eeb7459d432c"
      },
      "source": [
        "model.compile(loss='binary_crossentropy',\n",
        "              optimizer='adam',\n",
        "              metrics=['accuracy'])\n",
        "\n",
        "history = model.fit(X_train, y_train, epochs=30, validation_data=(X_test, y_test))"
      ],
      "execution_count": 63,
      "outputs": [
        {
          "output_type": "stream",
          "text": [
            "Train on 800 samples, validate on 200 samples\n",
            "Epoch 1/30\n",
            "800/800 [==============================] - 2s 2ms/step - loss: 0.6934 - acc: 0.5038 - val_loss: 0.6930 - val_acc: 0.4750\n",
            "Epoch 2/30\n",
            "800/800 [==============================] - 1s 823us/step - loss: 0.6923 - acc: 0.5212 - val_loss: 0.6927 - val_acc: 0.4950\n",
            "Epoch 3/30\n",
            "800/800 [==============================] - 1s 850us/step - loss: 0.6900 - acc: 0.5413 - val_loss: 0.6902 - val_acc: 0.5750\n",
            "Epoch 4/30\n",
            "800/800 [==============================] - 1s 840us/step - loss: 0.6846 - acc: 0.6100 - val_loss: 0.6901 - val_acc: 0.5050\n",
            "Epoch 5/30\n",
            "800/800 [==============================] - 1s 846us/step - loss: 0.6769 - acc: 0.5862 - val_loss: 0.6885 - val_acc: 0.5200\n",
            "Epoch 6/30\n",
            "800/800 [==============================] - 1s 819us/step - loss: 0.6639 - acc: 0.6112 - val_loss: 0.6731 - val_acc: 0.5950\n",
            "Epoch 7/30\n",
            "800/800 [==============================] - 1s 851us/step - loss: 0.6440 - acc: 0.6400 - val_loss: 0.6657 - val_acc: 0.5800\n",
            "Epoch 8/30\n",
            "800/800 [==============================] - 1s 872us/step - loss: 0.6155 - acc: 0.6812 - val_loss: 0.6636 - val_acc: 0.5550\n",
            "Epoch 9/30\n",
            "800/800 [==============================] - 1s 879us/step - loss: 0.6135 - acc: 0.6763 - val_loss: 0.6614 - val_acc: 0.5900\n",
            "Epoch 10/30\n",
            "800/800 [==============================] - 1s 854us/step - loss: 0.5903 - acc: 0.6925 - val_loss: 0.6612 - val_acc: 0.5950\n",
            "Epoch 11/30\n",
            "800/800 [==============================] - 1s 782us/step - loss: 0.5617 - acc: 0.7350 - val_loss: 0.6755 - val_acc: 0.5400\n",
            "Epoch 12/30\n",
            "800/800 [==============================] - 1s 786us/step - loss: 0.5334 - acc: 0.7475 - val_loss: 0.6730 - val_acc: 0.6150\n",
            "Epoch 13/30\n",
            "800/800 [==============================] - 1s 792us/step - loss: 0.5234 - acc: 0.7538 - val_loss: 0.7388 - val_acc: 0.5350\n",
            "Epoch 14/30\n",
            "800/800 [==============================] - 1s 797us/step - loss: 0.5003 - acc: 0.7638 - val_loss: 0.6777 - val_acc: 0.5950\n",
            "Epoch 15/30\n",
            "800/800 [==============================] - 1s 820us/step - loss: 0.4584 - acc: 0.8013 - val_loss: 0.7179 - val_acc: 0.5900\n",
            "Epoch 16/30\n",
            "800/800 [==============================] - 1s 789us/step - loss: 0.4566 - acc: 0.7787 - val_loss: 0.7938 - val_acc: 0.5600\n",
            "Epoch 17/30\n",
            "800/800 [==============================] - 1s 769us/step - loss: 0.4100 - acc: 0.8137 - val_loss: 0.7240 - val_acc: 0.5750\n",
            "Epoch 18/30\n",
            "800/800 [==============================] - 1s 817us/step - loss: 0.3619 - acc: 0.8387 - val_loss: 0.6959 - val_acc: 0.5750\n",
            "Epoch 19/30\n",
            "800/800 [==============================] - 1s 716us/step - loss: 0.3301 - acc: 0.8513 - val_loss: 0.6936 - val_acc: 0.6050\n",
            "Epoch 20/30\n",
            "800/800 [==============================] - 1s 718us/step - loss: 0.3126 - acc: 0.8750 - val_loss: 0.7322 - val_acc: 0.5950\n",
            "Epoch 21/30\n",
            "800/800 [==============================] - 1s 727us/step - loss: 0.2835 - acc: 0.8788 - val_loss: 0.6882 - val_acc: 0.5850\n",
            "Epoch 22/30\n",
            "800/800 [==============================] - 1s 716us/step - loss: 0.2796 - acc: 0.8837 - val_loss: 0.7694 - val_acc: 0.5950\n",
            "Epoch 23/30\n",
            "800/800 [==============================] - 1s 736us/step - loss: 0.2328 - acc: 0.9050 - val_loss: 1.2228 - val_acc: 0.5300\n",
            "Epoch 24/30\n",
            "800/800 [==============================] - 1s 822us/step - loss: 0.2383 - acc: 0.9125 - val_loss: 0.7413 - val_acc: 0.5900\n",
            "Epoch 25/30\n",
            "800/800 [==============================] - 1s 878us/step - loss: 0.2459 - acc: 0.9037 - val_loss: 0.7529 - val_acc: 0.5950\n",
            "Epoch 26/30\n",
            "800/800 [==============================] - 1s 761us/step - loss: 0.2311 - acc: 0.9037 - val_loss: 0.7165 - val_acc: 0.6300\n",
            "Epoch 27/30\n",
            "800/800 [==============================] - 1s 758us/step - loss: 0.1907 - acc: 0.9337 - val_loss: 0.8697 - val_acc: 0.5950\n",
            "Epoch 28/30\n",
            "800/800 [==============================] - 1s 752us/step - loss: 0.1708 - acc: 0.9312 - val_loss: 0.8723 - val_acc: 0.5900\n",
            "Epoch 29/30\n",
            "800/800 [==============================] - 1s 762us/step - loss: 0.1495 - acc: 0.9525 - val_loss: 0.8688 - val_acc: 0.6150\n",
            "Epoch 30/30\n",
            "800/800 [==============================] - 1s 677us/step - loss: 0.1375 - acc: 0.9600 - val_loss: 0.9007 - val_acc: 0.5950\n"
          ],
          "name": "stdout"
        }
      ]
    },
    {
      "cell_type": "code",
      "metadata": {
        "id": "WnWB_-3V0NG5",
        "colab_type": "code",
        "colab": {
          "base_uri": "https://localhost:8080/",
          "height": 367
        },
        "outputId": "230fc85e-88c2-4fdb-b70a-ac3287e65ea5"
      },
      "source": [
        "score, acc = model.evaluate(X_train, y_train, batch_size=batch_size)\n",
        "print('Train score:', score)\n",
        "print('Train accuracy:', acc)\n",
        "\n",
        "score, acc = model.evaluate(X_test, y_test, batch_size=batch_size)\n",
        "print('Test score:', score)\n",
        "print('Test accuracy:', acc)\n",
        "\n",
        "# Plot the accuracy curves for training and validation \n",
        "pyplot.plot(history.history['acc'], color='b', label=\"Training accuracy\")\n",
        "pyplot.plot(history.history['val_acc'], color='r',label=\"Validation accuracy\")\n",
        "legend = pyplot.legend(loc='best', shadow=True)"
      ],
      "execution_count": 64,
      "outputs": [
        {
          "output_type": "stream",
          "text": [
            "800/800 [==============================] - 0s 121us/step\n",
            "Train score: 0.030253894999623297\n",
            "Train accuracy: 1.0\n",
            "200/200 [==============================] - 0s 131us/step\n",
            "Test score: 0.9007147288322449\n",
            "Test accuracy: 0.595\n"
          ],
          "name": "stdout"
        },
        {
          "output_type": "display_data",
          "data": {
            "image/png": "[encoded data removed]",
            "text/plain": [
              "<Figure size 432x288 with 1 Axes>"
            ]
          },
          "metadata": {
            "tags": []
          }
        }
      ]
    },
    {
      "cell_type": "markdown",
      "metadata": {
        "id": "bs3AB0qC4-pD",
        "colab_type": "text"
      },
      "source": [
        "## 2.3 RNN with LSTM\n",
        "Use glove embeddings\n",
        "\n"
      ]
    },
    {
      "cell_type": "code",
      "metadata": {
        "id": "qncKCWpn0dGR",
        "colab_type": "code",
        "colab": {
          "base_uri": "https://localhost:8080/",
          "height": 34
        },
        "outputId": "8c6a39c8-73c0-47a0-91b9-91adeaec4426"
      },
      "source": [
        "vocabulary_size = 10000   #specify desired size of pre-defined embedding vocabulary \n",
        "\n",
        "tokenizer = Tokenizer(num_words= vocabulary_size)\n",
        "tokenizer.fit_on_texts(documents)\n",
        "\n",
        "# integer encode the documents\n",
        "sequences = tokenizer.texts_to_sequences(documents)\n",
        "embeddings = pad_sequences(sequences, maxlen=50)\n",
        "\n",
        "embeddings_index = dict()\n",
        "f = open('embeddings/gloVe.6B/glove.6B.100d.txt', encoding=\"utf8\")\n",
        "for line in f:\n",
        "    values = line.split()\n",
        "    word = values[0]\n",
        "    coefs = np.asarray(values[1:], dtype='float32')\n",
        "    embeddings_index[word] = coefs\n",
        "f.close()\n",
        "print('Loaded %s word vectors.' % len(embeddings_index))\n",
        "\n",
        "# create a weight matrix for words in training docs\n",
        "embedding_matrix = np.zeros((vocabulary_size, 100))\n",
        "for word, index in tokenizer.word_index.items():\n",
        "    if index > vocabulary_size - 1:\n",
        "        break\n",
        "    else:\n",
        "        embedding_vector = embeddings_index.get(word)\n",
        "        if embedding_vector is not None:\n",
        "            embedding_matrix[index] = embedding_vector"
      ],
      "execution_count": 65,
      "outputs": [
        {
          "output_type": "stream",
          "text": [
            "Loaded 400000 word vectors.\n"
          ],
          "name": "stdout"
        }
      ]
    },
    {
      "cell_type": "code",
      "metadata": {
        "id": "X9dnetgb5K1a",
        "colab_type": "code",
        "colab": {}
      },
      "source": [
        "# -----------------------------------------------------    \n",
        "# Make embeddings a numpy array for use in an RNN \n",
        "# Create training and test sets with Scikit Learn\n",
        "# -----------------------------------------------------\n",
        "RANDOM_SEED = 9999\n",
        "\n",
        "embeddings_array = np.array(embeddings)\n",
        "\n",
        "# Define the labels to be used 500 negative (0) and 500 positive (1)\n",
        "thumbs_down_up = np.concatenate((np.zeros((500), dtype = np.int32), \n",
        "                      np.ones((500), dtype = np.int32)), axis = 0)\n",
        "\n",
        "# Scikit Learn for random splitting of the data  \n",
        "from sklearn.model_selection import train_test_split\n",
        "\n",
        "# Random splitting of the data in to training (80%) and test (20%)  \n",
        "X_train, X_test, y_train, y_test = \\\n",
        "    train_test_split(embeddings_array, thumbs_down_up, test_size=0.20, \n",
        "                     random_state = RANDOM_SEED)"
      ],
      "execution_count": 0,
      "outputs": []
    },
    {
      "cell_type": "code",
      "metadata": {
        "id": "dwKhqn6J5PAK",
        "colab_type": "code",
        "colab": {
          "base_uri": "https://localhost:8080/",
          "height": 357
        },
        "outputId": "c9c53429-99ba-4a37-c0df-db9006e3ab28"
      },
      "source": [
        "model = Sequential()\n",
        "model.add(Embedding(vocabulary_size, 100, input_length=50, trainable=False))\n",
        "model.add(Dropout(0.2))\n",
        "model.add(Conv1D(64, 5, activation='relu'))\n",
        "model.add(MaxPooling1D(pool_size=4))\n",
        "model.add(LSTM(100, dropout=0.2, recurrent_dropout=0.2, return_sequences=False))\n",
        "model.add(Dense(1, activation='sigmoid'))\n",
        "model.summary()"
      ],
      "execution_count": 67,
      "outputs": [
        {
          "output_type": "stream",
          "text": [
            "Model: \"sequential_3\"\n",
            "_________________________________________________________________\n",
            "Layer (type)                 Output Shape              Param #   \n",
            "=================================================================\n",
            "embedding_3 (Embedding)      (None, 50, 100)           1000000   \n",
            "_________________________________________________________________\n",
            "dropout_3 (Dropout)          (None, 50, 100)           0         \n",
            "_________________________________________________________________\n",
            "conv1d_3 (Conv1D)            (None, 46, 64)            32064     \n",
            "_________________________________________________________________\n",
            "max_pooling1d_3 (MaxPooling1 (None, 11, 64)            0         \n",
            "_________________________________________________________________\n",
            "lstm_3 (LSTM)                (None, 100)               66000     \n",
            "_________________________________________________________________\n",
            "dense_3 (Dense)              (None, 1)                 101       \n",
            "=================================================================\n",
            "Total params: 1,098,165\n",
            "Trainable params: 98,165\n",
            "Non-trainable params: 1,000,000\n",
            "_________________________________________________________________\n"
          ],
          "name": "stdout"
        }
      ]
    },
    {
      "cell_type": "code",
      "metadata": {
        "id": "lgIvReac5Vn4",
        "colab_type": "code",
        "colab": {
          "base_uri": "https://localhost:8080/",
          "height": 1000
        },
        "outputId": "58964637-a9f3-433a-9e4c-faed29528b4b"
      },
      "source": [
        "# try using different optimizers and different optimizer configs\n",
        "model.compile(loss='binary_crossentropy',\n",
        "              optimizer='adam',\n",
        "              metrics=['accuracy'])\n",
        "\n",
        "history = model.fit(X_train, y_train, epochs=30, validation_data=(X_test, y_test))"
      ],
      "execution_count": 68,
      "outputs": [
        {
          "output_type": "stream",
          "text": [
            "Train on 800 samples, validate on 200 samples\n",
            "Epoch 1/30\n",
            "800/800 [==============================] - 2s 3ms/step - loss: 0.6964 - acc: 0.4725 - val_loss: 0.6947 - val_acc: 0.4700\n",
            "Epoch 2/30\n",
            "800/800 [==============================] - 1s 1ms/step - loss: 0.6913 - acc: 0.5325 - val_loss: 0.6911 - val_acc: 0.5900\n",
            "Epoch 3/30\n",
            "800/800 [==============================] - 1s 1ms/step - loss: 0.6882 - acc: 0.5375 - val_loss: 0.6886 - val_acc: 0.5850\n",
            "Epoch 4/30\n",
            "800/800 [==============================] - 1s 1ms/step - loss: 0.6756 - acc: 0.6675 - val_loss: 0.6761 - val_acc: 0.5900\n",
            "Epoch 5/30\n",
            "800/800 [==============================] - 1s 1ms/step - loss: 0.6503 - acc: 0.6212 - val_loss: 0.6584 - val_acc: 0.6000\n",
            "Epoch 6/30\n",
            "800/800 [==============================] - 1s 1ms/step - loss: 0.5819 - acc: 0.7075 - val_loss: 0.6811 - val_acc: 0.5900\n",
            "Epoch 7/30\n",
            "800/800 [==============================] - 1s 1ms/step - loss: 0.5543 - acc: 0.7063 - val_loss: 0.6444 - val_acc: 0.6050\n",
            "Epoch 8/30\n",
            "800/800 [==============================] - 1s 1ms/step - loss: 0.4847 - acc: 0.7787 - val_loss: 0.6880 - val_acc: 0.6050\n",
            "Epoch 9/30\n",
            "800/800 [==============================] - 1s 1ms/step - loss: 0.4697 - acc: 0.7863 - val_loss: 0.6509 - val_acc: 0.6250\n",
            "Epoch 10/30\n",
            "800/800 [==============================] - 1s 1ms/step - loss: 0.3643 - acc: 0.8425 - val_loss: 0.6959 - val_acc: 0.6250\n",
            "Epoch 11/30\n",
            "800/800 [==============================] - 1s 1ms/step - loss: 0.3154 - acc: 0.8612 - val_loss: 0.7441 - val_acc: 0.6050\n",
            "Epoch 12/30\n",
            "800/800 [==============================] - 1s 1ms/step - loss: 0.2751 - acc: 0.8875 - val_loss: 0.7795 - val_acc: 0.6300\n",
            "Epoch 13/30\n",
            "800/800 [==============================] - 1s 1ms/step - loss: 0.2374 - acc: 0.9088 - val_loss: 0.7642 - val_acc: 0.5950\n",
            "Epoch 14/30\n",
            "800/800 [==============================] - 1s 1ms/step - loss: 0.2339 - acc: 0.9075 - val_loss: 0.7947 - val_acc: 0.6050\n",
            "Epoch 15/30\n",
            "800/800 [==============================] - 1s 1ms/step - loss: 0.1801 - acc: 0.9350 - val_loss: 0.8173 - val_acc: 0.6250\n",
            "Epoch 16/30\n",
            "800/800 [==============================] - 1s 1ms/step - loss: 0.1383 - acc: 0.9475 - val_loss: 0.8218 - val_acc: 0.6150\n",
            "Epoch 17/30\n",
            "800/800 [==============================] - 1s 1ms/step - loss: 0.1575 - acc: 0.9363 - val_loss: 0.7972 - val_acc: 0.6200\n",
            "Epoch 18/30\n",
            "800/800 [==============================] - 1s 1ms/step - loss: 0.1157 - acc: 0.9475 - val_loss: 0.9037 - val_acc: 0.6350\n",
            "Epoch 19/30\n",
            "800/800 [==============================] - 1s 1ms/step - loss: 0.0951 - acc: 0.9700 - val_loss: 0.9210 - val_acc: 0.6100\n",
            "Epoch 20/30\n",
            "800/800 [==============================] - 1s 1ms/step - loss: 0.1366 - acc: 0.9525 - val_loss: 0.8540 - val_acc: 0.6050\n",
            "Epoch 21/30\n",
            "800/800 [==============================] - 1s 1ms/step - loss: 0.1151 - acc: 0.9625 - val_loss: 0.8459 - val_acc: 0.5850\n",
            "Epoch 22/30\n",
            "800/800 [==============================] - 1s 1ms/step - loss: 0.0852 - acc: 0.9725 - val_loss: 0.9937 - val_acc: 0.6350\n",
            "Epoch 23/30\n",
            "800/800 [==============================] - 1s 1ms/step - loss: 0.0830 - acc: 0.9700 - val_loss: 0.9226 - val_acc: 0.6350\n",
            "Epoch 24/30\n",
            "800/800 [==============================] - 1s 1ms/step - loss: 0.0812 - acc: 0.9700 - val_loss: 0.9310 - val_acc: 0.6450\n",
            "Epoch 25/30\n",
            "800/800 [==============================] - 1s 1ms/step - loss: 0.0365 - acc: 0.9900 - val_loss: 1.1755 - val_acc: 0.6450\n",
            "Epoch 26/30\n",
            "800/800 [==============================] - 1s 1ms/step - loss: 0.0752 - acc: 0.9662 - val_loss: 1.0874 - val_acc: 0.6450\n",
            "Epoch 27/30\n",
            "800/800 [==============================] - 1s 1ms/step - loss: 0.0698 - acc: 0.9738 - val_loss: 0.9749 - val_acc: 0.6050\n",
            "Epoch 28/30\n",
            "800/800 [==============================] - 1s 1ms/step - loss: 0.0702 - acc: 0.9775 - val_loss: 0.9454 - val_acc: 0.6050\n",
            "Epoch 29/30\n",
            "800/800 [==============================] - 1s 1ms/step - loss: 0.0711 - acc: 0.9763 - val_loss: 1.2381 - val_acc: 0.6450\n",
            "Epoch 30/30\n",
            "800/800 [==============================] - 1s 1ms/step - loss: 0.0655 - acc: 0.9775 - val_loss: 1.0644 - val_acc: 0.5750\n"
          ],
          "name": "stdout"
        }
      ]
    },
    {
      "cell_type": "code",
      "metadata": {
        "id": "W-tiuXdt5ZhQ",
        "colab_type": "code",
        "colab": {
          "base_uri": "https://localhost:8080/",
          "height": 367
        },
        "outputId": "f9881031-7945-4253-d055-26c34ab92b82"
      },
      "source": [
        "score, acc = model.evaluate(X_train, y_train, batch_size=batch_size)\n",
        "print('Train score:', score)\n",
        "print('Train accuracy:', acc)\n",
        "\n",
        "score, acc = model.evaluate(X_test, y_test, batch_size=batch_size)\n",
        "print('Test score:', score)\n",
        "print('Test accuracy:', acc)\n",
        "\n",
        "# Plot the accuracy curves for training and validation \n",
        "pyplot.plot(history.history['acc'], color='b', label=\"Training accuracy\")\n",
        "pyplot.plot(history.history['val_acc'], color='r',label=\"Validation accuracy\")\n",
        "legend = pyplot.legend(loc='best', shadow=True)"
      ],
      "execution_count": 69,
      "outputs": [
        {
          "output_type": "stream",
          "text": [
            "800/800 [==============================] - 0s 174us/step\n",
            "Train score: 0.004202920012176037\n",
            "Train accuracy: 1.0\n",
            "200/200 [==============================] - 0s 186us/step\n",
            "Test score: 1.06438818693161\n",
            "Test accuracy: 0.575\n"
          ],
          "name": "stdout"
        },
        {
          "output_type": "display_data",
          "data": {
            "image/png": "[encoded data removed]",
            "text/plain": [
              "<Figure size 432x288 with 1 Axes>"
            ]
          },
          "metadata": {
            "tags": []
          }
        }
      ]
    },
    {
      "cell_type": "markdown",
      "metadata": {
        "id": "RdhxN7jF5sd9",
        "colab_type": "text"
      },
      "source": [
        "## 2.4 RNN with LSTM\n",
        "Use gloVe embeddings, increase vocabulary size to 30,000\n",
        "\n",
        "---\n",
        "\n"
      ]
    },
    {
      "cell_type": "code",
      "metadata": {
        "id": "SsbgCbfX5rSY",
        "colab_type": "code",
        "colab": {
          "base_uri": "https://localhost:8080/",
          "height": 34
        },
        "outputId": "9da4656b-e7a6-4c1e-e5c4-bc8474dc864c"
      },
      "source": [
        "vocabulary_size = 30000   #specify desired size of pre-defined embedding vocabulary \n",
        "\n",
        "tokenizer = Tokenizer(num_words= vocabulary_size)\n",
        "tokenizer.fit_on_texts(documents)\n",
        "\n",
        "# integer encode the documents\n",
        "sequences = tokenizer.texts_to_sequences(documents)\n",
        "embeddings = pad_sequences(sequences, maxlen=50)\n",
        "\n",
        "embeddings_index = dict()\n",
        "f = open('embeddings/gloVe.6B/glove.6B.100d.txt', encoding=\"utf8\")\n",
        "for line in f:\n",
        "    values = line.split()\n",
        "    word = values[0]\n",
        "    coefs = np.asarray(values[1:], dtype='float32')\n",
        "    embeddings_index[word] = coefs\n",
        "f.close()\n",
        "print('Loaded %s word vectors.' % len(embeddings_index))\n",
        "\n",
        "# create a weight matrix for words in training docs\n",
        "embedding_matrix = np.zeros((vocabulary_size, 100))\n",
        "for word, index in tokenizer.word_index.items():\n",
        "    if index > vocabulary_size - 1:\n",
        "        break\n",
        "    else:\n",
        "        embedding_vector = embeddings_index.get(word)\n",
        "        if embedding_vector is not None:\n",
        "            embedding_matrix[index] = embedding_vector"
      ],
      "execution_count": 70,
      "outputs": [
        {
          "output_type": "stream",
          "text": [
            "Loaded 400000 word vectors.\n"
          ],
          "name": "stdout"
        }
      ]
    },
    {
      "cell_type": "code",
      "metadata": {
        "id": "nMjX97-35vPO",
        "colab_type": "code",
        "colab": {}
      },
      "source": [
        "# -----------------------------------------------------    \n",
        "# Make embeddings a numpy array for use in an RNN \n",
        "# Create training and test sets with Scikit Learn\n",
        "# -----------------------------------------------------\n",
        "RANDOM_SEED = 9999\n",
        "\n",
        "embeddings_array = np.array(embeddings)\n",
        "\n",
        "# Define the labels to be used 500 negative (0) and 500 positive (1)\n",
        "thumbs_down_up = np.concatenate((np.zeros((500), dtype = np.int32), \n",
        "                      np.ones((500), dtype = np.int32)), axis = 0)\n",
        "\n",
        "# Scikit Learn for random splitting of the data  \n",
        "from sklearn.model_selection import train_test_split\n",
        "\n",
        "# Random splitting of the data in to training (80%) and test (20%)  \n",
        "X_train, X_test, y_train, y_test = \\\n",
        "    train_test_split(embeddings_array, thumbs_down_up, test_size=0.20, \n",
        "                     random_state = RANDOM_SEED)"
      ],
      "execution_count": 0,
      "outputs": []
    },
    {
      "cell_type": "code",
      "metadata": {
        "id": "Xyhvpj0X6OYz",
        "colab_type": "code",
        "colab": {
          "base_uri": "https://localhost:8080/",
          "height": 357
        },
        "outputId": "50d973c1-25b3-4542-efe0-76fa06a8220a"
      },
      "source": [
        "model = Sequential()\n",
        "model.add(Embedding(vocabulary_size, 100, input_length=50, trainable=False))\n",
        "model.add(Dropout(0.2))\n",
        "model.add(Conv1D(64, 5, activation='relu'))\n",
        "model.add(MaxPooling1D(pool_size=4))\n",
        "model.add(LSTM(100, dropout=0.2, recurrent_dropout=0.2, return_sequences=False))\n",
        "model.add(Dense(1, activation='sigmoid'))\n",
        "model.summary()"
      ],
      "execution_count": 72,
      "outputs": [
        {
          "output_type": "stream",
          "text": [
            "Model: \"sequential_4\"\n",
            "_________________________________________________________________\n",
            "Layer (type)                 Output Shape              Param #   \n",
            "=================================================================\n",
            "embedding_4 (Embedding)      (None, 50, 100)           3000000   \n",
            "_________________________________________________________________\n",
            "dropout_4 (Dropout)          (None, 50, 100)           0         \n",
            "_________________________________________________________________\n",
            "conv1d_4 (Conv1D)            (None, 46, 64)            32064     \n",
            "_________________________________________________________________\n",
            "max_pooling1d_4 (MaxPooling1 (None, 11, 64)            0         \n",
            "_________________________________________________________________\n",
            "lstm_4 (LSTM)                (None, 100)               66000     \n",
            "_________________________________________________________________\n",
            "dense_4 (Dense)              (None, 1)                 101       \n",
            "=================================================================\n",
            "Total params: 3,098,165\n",
            "Trainable params: 98,165\n",
            "Non-trainable params: 3,000,000\n",
            "_________________________________________________________________\n"
          ],
          "name": "stdout"
        }
      ]
    },
    {
      "cell_type": "code",
      "metadata": {
        "id": "8nvl_nBv6RbE",
        "colab_type": "code",
        "colab": {
          "base_uri": "https://localhost:8080/",
          "height": 1000
        },
        "outputId": "7ab8868b-bf3c-48e4-b9d0-a700a4fc616f"
      },
      "source": [
        "# try using different optimizers and different optimizer configs\n",
        "model.compile(loss='binary_crossentropy',\n",
        "              optimizer='adam',\n",
        "              metrics=['accuracy'])\n",
        "\n",
        "history = model.fit(X_train, y_train, epochs=30, validation_data=(X_test, y_test))"
      ],
      "execution_count": 73,
      "outputs": [
        {
          "output_type": "stream",
          "text": [
            "Train on 800 samples, validate on 200 samples\n",
            "Epoch 1/30\n",
            "800/800 [==============================] - 3s 4ms/step - loss: 0.6931 - acc: 0.5025 - val_loss: 0.6934 - val_acc: 0.4700\n",
            "Epoch 2/30\n",
            "800/800 [==============================] - 1s 1ms/step - loss: 0.6896 - acc: 0.5487 - val_loss: 0.6895 - val_acc: 0.6400\n",
            "Epoch 3/30\n",
            "800/800 [==============================] - 1s 1ms/step - loss: 0.6788 - acc: 0.6013 - val_loss: 0.6796 - val_acc: 0.6150\n",
            "Epoch 4/30\n",
            "800/800 [==============================] - 1s 1ms/step - loss: 0.6440 - acc: 0.6300 - val_loss: 0.6714 - val_acc: 0.5600\n",
            "Epoch 5/30\n",
            "800/800 [==============================] - 1s 1ms/step - loss: 0.6203 - acc: 0.6450 - val_loss: 0.6654 - val_acc: 0.5850\n",
            "Epoch 6/30\n",
            "800/800 [==============================] - 1s 1ms/step - loss: 0.6144 - acc: 0.6750 - val_loss: 0.6622 - val_acc: 0.5850\n",
            "Epoch 7/30\n",
            "800/800 [==============================] - 1s 1ms/step - loss: 0.5584 - acc: 0.7087 - val_loss: 0.6623 - val_acc: 0.5800\n",
            "Epoch 8/30\n",
            "800/800 [==============================] - 1s 1ms/step - loss: 0.5335 - acc: 0.7350 - val_loss: 0.7525 - val_acc: 0.5650\n",
            "Epoch 9/30\n",
            "800/800 [==============================] - 1s 1ms/step - loss: 0.4777 - acc: 0.7700 - val_loss: 0.7302 - val_acc: 0.5950\n",
            "Epoch 10/30\n",
            "800/800 [==============================] - 1s 1ms/step - loss: 0.4432 - acc: 0.7775 - val_loss: 0.7405 - val_acc: 0.5650\n",
            "Epoch 11/30\n",
            "800/800 [==============================] - 1s 1ms/step - loss: 0.4266 - acc: 0.8050 - val_loss: 0.7375 - val_acc: 0.6300\n",
            "Epoch 12/30\n",
            "800/800 [==============================] - 1s 1ms/step - loss: 0.3809 - acc: 0.8438 - val_loss: 0.7720 - val_acc: 0.6300\n",
            "Epoch 13/30\n",
            "800/800 [==============================] - 1s 1ms/step - loss: 0.4191 - acc: 0.8150 - val_loss: 0.6946 - val_acc: 0.6200\n",
            "Epoch 14/30\n",
            "800/800 [==============================] - 1s 997us/step - loss: 0.2747 - acc: 0.8912 - val_loss: 0.7792 - val_acc: 0.6050\n",
            "Epoch 15/30\n",
            "800/800 [==============================] - 1s 1ms/step - loss: 0.2480 - acc: 0.9050 - val_loss: 0.8337 - val_acc: 0.5950\n",
            "Epoch 16/30\n",
            "800/800 [==============================] - 1s 1ms/step - loss: 0.1998 - acc: 0.9312 - val_loss: 0.9389 - val_acc: 0.6000\n",
            "Epoch 17/30\n",
            "800/800 [==============================] - 1s 1ms/step - loss: 0.1639 - acc: 0.9363 - val_loss: 0.8859 - val_acc: 0.5900\n",
            "Epoch 18/30\n",
            "800/800 [==============================] - 1s 949us/step - loss: 0.1542 - acc: 0.9413 - val_loss: 0.9395 - val_acc: 0.5850\n",
            "Epoch 19/30\n",
            "800/800 [==============================] - 1s 964us/step - loss: 0.1308 - acc: 0.9537 - val_loss: 1.0266 - val_acc: 0.6050\n",
            "Epoch 20/30\n",
            "800/800 [==============================] - 1s 1ms/step - loss: 0.1606 - acc: 0.9387 - val_loss: 0.9114 - val_acc: 0.6350\n",
            "Epoch 21/30\n",
            "800/800 [==============================] - 1s 1ms/step - loss: 0.1176 - acc: 0.9575 - val_loss: 0.9348 - val_acc: 0.6200\n",
            "Epoch 22/30\n",
            "800/800 [==============================] - 1s 1ms/step - loss: 0.0710 - acc: 0.9838 - val_loss: 1.0454 - val_acc: 0.6000\n",
            "Epoch 23/30\n",
            "800/800 [==============================] - 1s 1ms/step - loss: 0.1058 - acc: 0.9612 - val_loss: 0.9550 - val_acc: 0.6150\n",
            "Epoch 24/30\n",
            "800/800 [==============================] - 1s 1ms/step - loss: 0.0815 - acc: 0.9713 - val_loss: 0.9099 - val_acc: 0.6250\n",
            "Epoch 25/30\n",
            "800/800 [==============================] - 1s 984us/step - loss: 0.0802 - acc: 0.9725 - val_loss: 0.9353 - val_acc: 0.6050\n",
            "Epoch 26/30\n",
            "800/800 [==============================] - 1s 1ms/step - loss: 0.0955 - acc: 0.9625 - val_loss: 0.8524 - val_acc: 0.6200\n",
            "Epoch 27/30\n",
            "800/800 [==============================] - 1s 1ms/step - loss: 0.0892 - acc: 0.9612 - val_loss: 0.9037 - val_acc: 0.6300\n",
            "Epoch 28/30\n",
            "800/800 [==============================] - 1s 1ms/step - loss: 0.0575 - acc: 0.9800 - val_loss: 1.0930 - val_acc: 0.6300\n",
            "Epoch 29/30\n",
            "800/800 [==============================] - 1s 1ms/step - loss: 0.0594 - acc: 0.9775 - val_loss: 0.8821 - val_acc: 0.6100\n",
            "Epoch 30/30\n",
            "800/800 [==============================] - 1s 1ms/step - loss: 0.0437 - acc: 0.9850 - val_loss: 1.1135 - val_acc: 0.6500\n"
          ],
          "name": "stdout"
        }
      ]
    },
    {
      "cell_type": "code",
      "metadata": {
        "id": "MJvLrEaG6W8L",
        "colab_type": "code",
        "colab": {
          "base_uri": "https://localhost:8080/",
          "height": 367
        },
        "outputId": "4911bec3-c522-4f84-d193-156ebcf2f180"
      },
      "source": [
        "score, acc = model.evaluate(X_train, y_train, batch_size=batch_size)\n",
        "print('Train score:', score)\n",
        "print('Train accuracy:', acc)\n",
        "\n",
        "score, acc = model.evaluate(X_test, y_test, batch_size=batch_size)\n",
        "print('Test score:', score)\n",
        "print('Test accuracy:', acc)\n",
        "\n",
        "# Plot the accuracy curves for training and validation \n",
        "pyplot.plot(history.history['acc'], color='b', label=\"Training accuracy\")\n",
        "pyplot.plot(history.history['val_acc'], color='r',label=\"Validation accuracy\")\n",
        "legend = pyplot.legend(loc='best', shadow=True)"
      ],
      "execution_count": 74,
      "outputs": [
        {
          "output_type": "stream",
          "text": [
            "800/800 [==============================] - 0s 179us/step\n",
            "Train score: 0.0021701662056148054\n",
            "Train accuracy: 1.0\n",
            "200/200 [==============================] - 0s 195us/step\n",
            "Test score: 1.113481764793396\n",
            "Test accuracy: 0.65\n"
          ],
          "name": "stdout"
        },
        {
          "output_type": "display_data",
          "data": {
            "image/png": "[encoded data removed]",
            "text/plain": [
              "<Figure size 432x288 with 1 Axes>"
            ]
          },
          "metadata": {
            "tags": []
          }
        }
      ]
    },
    {
      "cell_type": "markdown",
      "metadata": {
        "id": "hIYvSZE17M7D",
        "colab_type": "text"
      },
      "source": [
        "## modify model hyperparameter settings"
      ]
    },
    {
      "cell_type": "code",
      "metadata": {
        "id": "RvsG87jMKaZp",
        "colab_type": "code",
        "colab": {}
      },
      "source": [
        "reset_graph() # Refresh graph to make output stable across runs"
      ],
      "execution_count": 0,
      "outputs": []
    },
    {
      "cell_type": "code",
      "metadata": {
        "id": "dPler3gOHzi7",
        "colab_type": "code",
        "colab": {
          "base_uri": "https://localhost:8080/",
          "height": 34
        },
        "outputId": "4985e49f-9c1c-43af-df6d-f7ea53b7debd"
      },
      "source": [
        "vocabulary_size = 30000   #specify desired size of pre-defined embedding vocabulary \n",
        "\n",
        "tokenizer = Tokenizer(num_words= vocabulary_size)\n",
        "tokenizer.fit_on_texts(documents)\n",
        "\n",
        "# integer encode the documents\n",
        "sequences = tokenizer.texts_to_sequences(documents)\n",
        "embeddings = pad_sequences(sequences, maxlen=50)\n",
        "\n",
        "embeddings_index = dict()\n",
        "f = open('embeddings/gloVe.6B/glove.6B.100d.txt', encoding=\"utf8\")\n",
        "for line in f:\n",
        "    values = line.split()\n",
        "    word = values[0]\n",
        "    coefs = np.asarray(values[1:], dtype='float32')\n",
        "    embeddings_index[word] = coefs\n",
        "f.close()\n",
        "print('Loaded %s word vectors.' % len(embeddings_index))\n",
        "\n",
        "# create a weight matrix for words in training docs\n",
        "embedding_matrix = np.zeros((vocabulary_size, 100))\n",
        "for word, index in tokenizer.word_index.items():\n",
        "    if index > vocabulary_size - 1:\n",
        "        break\n",
        "    else:\n",
        "        embedding_vector = embeddings_index.get(word)\n",
        "        if embedding_vector is not None:\n",
        "            embedding_matrix[index] = embedding_vector"
      ],
      "execution_count": 76,
      "outputs": [
        {
          "output_type": "stream",
          "text": [
            "Loaded 400000 word vectors.\n"
          ],
          "name": "stdout"
        }
      ]
    },
    {
      "cell_type": "code",
      "metadata": {
        "id": "sWiagsCSH5ch",
        "colab_type": "code",
        "colab": {}
      },
      "source": [
        "# -----------------------------------------------------    \n",
        "# Make embeddings a numpy array for use in an RNN \n",
        "# Create training and test sets with Scikit Learn\n",
        "# -----------------------------------------------------\n",
        "RANDOM_SEED = 9999\n",
        "\n",
        "embeddings_array = np.array(embeddings)\n",
        "\n",
        "# Define the labels to be used 500 negative (0) and 500 positive (1)\n",
        "thumbs_down_up = np.concatenate((np.zeros((500), dtype = np.int32), \n",
        "                      np.ones((500), dtype = np.int32)), axis = 0)\n",
        "\n",
        "# Scikit Learn for random splitting of the data  \n",
        "from sklearn.model_selection import train_test_split\n",
        "\n",
        "# Random splitting of the data in to training (80%) and test (20%)  \n",
        "X_train, X_test, y_train, y_test = \\\n",
        "    train_test_split(embeddings_array, thumbs_down_up, test_size=0.20, \n",
        "                     random_state = RANDOM_SEED)"
      ],
      "execution_count": 0,
      "outputs": []
    },
    {
      "cell_type": "code",
      "metadata": {
        "id": "Oo-lkXVSH_UL",
        "colab_type": "code",
        "colab": {
          "base_uri": "https://localhost:8080/",
          "height": 357
        },
        "outputId": "0bc04096-c5d6-4695-95ca-36739b3dfbe8"
      },
      "source": [
        "model = Sequential()\n",
        "model.add(Embedding(vocabulary_size, 100, input_length=50, trainable=False))\n",
        "model.add(Dropout(0.2))\n",
        "model.add(Conv1D(64, 5, activation='relu'))\n",
        "model.add(MaxPooling1D(pool_size=4))\n",
        "model.add(LSTM(100, dropout=0.2, recurrent_dropout=0.2, return_sequences=False))\n",
        "model.add(Dense(1, activation='sigmoid'))\n",
        "model.summary()"
      ],
      "execution_count": 78,
      "outputs": [
        {
          "output_type": "stream",
          "text": [
            "Model: \"sequential_1\"\n",
            "_________________________________________________________________\n",
            "Layer (type)                 Output Shape              Param #   \n",
            "=================================================================\n",
            "embedding_1 (Embedding)      (None, 50, 100)           3000000   \n",
            "_________________________________________________________________\n",
            "dropout_1 (Dropout)          (None, 50, 100)           0         \n",
            "_________________________________________________________________\n",
            "conv1d_1 (Conv1D)            (None, 46, 64)            32064     \n",
            "_________________________________________________________________\n",
            "max_pooling1d_1 (MaxPooling1 (None, 11, 64)            0         \n",
            "_________________________________________________________________\n",
            "lstm_1 (LSTM)                (None, 100)               66000     \n",
            "_________________________________________________________________\n",
            "dense_1 (Dense)              (None, 1)                 101       \n",
            "=================================================================\n",
            "Total params: 3,098,165\n",
            "Trainable params: 98,165\n",
            "Non-trainable params: 3,000,000\n",
            "_________________________________________________________________\n"
          ],
          "name": "stdout"
        }
      ]
    },
    {
      "cell_type": "code",
      "metadata": {
        "id": "YvR_uKPM6_2x",
        "colab_type": "code",
        "colab": {}
      },
      "source": [
        "# from keras.optimizers import adam\n",
        "\n",
        "# # compile model\n",
        "# opt = optimizers.RMSprop(lr=1e-5)\n",
        "# model.compile(loss='binary_crossentropy',\n",
        "#               optimizer=opt,   \n",
        "#               metrics=['accuracy'])\n",
        "\n",
        "# history = model.fit(X_train, y_train, epochs=30, validation_data=(X_test, y_test))"
      ],
      "execution_count": 0,
      "outputs": []
    },
    {
      "cell_type": "code",
      "metadata": {
        "id": "vw49e2p-JG1k",
        "colab_type": "code",
        "colab": {
          "base_uri": "https://localhost:8080/",
          "height": 1000
        },
        "outputId": "e149cd01-cb36-48b9-a20f-3777fcc8366c"
      },
      "source": [
        "# try using different optimizers and different optimizer configs\n",
        "model.compile(loss='binary_crossentropy',\n",
        "              optimizer='RMSprop',\n",
        "              metrics=['accuracy'])\n",
        "\n",
        "history = model.fit(X_train, y_train, epochs=30, validation_data=(X_test, y_test))"
      ],
      "execution_count": 80,
      "outputs": [
        {
          "output_type": "stream",
          "text": [
            "Train on 800 samples, validate on 200 samples\n",
            "Epoch 1/30\n",
            "800/800 [==============================] - 2s 2ms/step - loss: 0.1317 - acc: 0.9487 - val_loss: 0.8539 - val_acc: 0.6200\n",
            "Epoch 2/30\n",
            "800/800 [==============================] - 1s 754us/step - loss: 0.1462 - acc: 0.9438 - val_loss: 0.8526 - val_acc: 0.6200\n",
            "Epoch 3/30\n",
            "800/800 [==============================] - 1s 735us/step - loss: 0.1256 - acc: 0.9600 - val_loss: 0.9065 - val_acc: 0.6050\n",
            "Epoch 4/30\n",
            "800/800 [==============================] - 1s 755us/step - loss: 0.1306 - acc: 0.9500 - val_loss: 0.9490 - val_acc: 0.6050\n",
            "Epoch 5/30\n",
            "800/800 [==============================] - 1s 723us/step - loss: 0.1064 - acc: 0.9587 - val_loss: 0.9655 - val_acc: 0.5900\n",
            "Epoch 6/30\n",
            "800/800 [==============================] - 1s 685us/step - loss: 0.1189 - acc: 0.9513 - val_loss: 0.9257 - val_acc: 0.6400\n",
            "Epoch 7/30\n",
            "800/800 [==============================] - 1s 670us/step - loss: 0.1100 - acc: 0.9637 - val_loss: 0.8612 - val_acc: 0.6200\n",
            "Epoch 8/30\n",
            "800/800 [==============================] - 1s 730us/step - loss: 0.0999 - acc: 0.9625 - val_loss: 0.9175 - val_acc: 0.6350\n",
            "Epoch 9/30\n",
            "800/800 [==============================] - 1s 743us/step - loss: 0.0998 - acc: 0.9675 - val_loss: 0.8966 - val_acc: 0.5950\n",
            "Epoch 10/30\n",
            "800/800 [==============================] - 1s 730us/step - loss: 0.0981 - acc: 0.9650 - val_loss: 0.9581 - val_acc: 0.6150\n",
            "Epoch 11/30\n",
            "800/800 [==============================] - 1s 747us/step - loss: 0.1273 - acc: 0.9487 - val_loss: 0.8529 - val_acc: 0.5900\n",
            "Epoch 12/30\n",
            "800/800 [==============================] - 1s 740us/step - loss: 0.1013 - acc: 0.9637 - val_loss: 0.9206 - val_acc: 0.6100\n",
            "Epoch 13/30\n",
            "800/800 [==============================] - 1s 716us/step - loss: 0.0818 - acc: 0.9650 - val_loss: 0.9883 - val_acc: 0.6000\n",
            "Epoch 14/30\n",
            "800/800 [==============================] - 1s 720us/step - loss: 0.0889 - acc: 0.9662 - val_loss: 0.9325 - val_acc: 0.5850\n",
            "Epoch 15/30\n",
            "800/800 [==============================] - 1s 781us/step - loss: 0.0670 - acc: 0.9812 - val_loss: 1.0403 - val_acc: 0.5950\n",
            "Epoch 16/30\n",
            "800/800 [==============================] - 1s 736us/step - loss: 0.0910 - acc: 0.9688 - val_loss: 0.8575 - val_acc: 0.6200\n",
            "Epoch 17/30\n",
            "800/800 [==============================] - 1s 770us/step - loss: 0.0899 - acc: 0.9688 - val_loss: 0.9639 - val_acc: 0.6100\n",
            "Epoch 18/30\n",
            "800/800 [==============================] - 1s 727us/step - loss: 0.0860 - acc: 0.9700 - val_loss: 0.9072 - val_acc: 0.6200\n",
            "Epoch 19/30\n",
            "800/800 [==============================] - 1s 699us/step - loss: 0.0794 - acc: 0.9738 - val_loss: 0.9135 - val_acc: 0.6200\n",
            "Epoch 20/30\n",
            "800/800 [==============================] - 1s 686us/step - loss: 0.0718 - acc: 0.9800 - val_loss: 0.9514 - val_acc: 0.6200\n",
            "Epoch 21/30\n",
            "800/800 [==============================] - 1s 735us/step - loss: 0.0714 - acc: 0.9763 - val_loss: 0.9777 - val_acc: 0.6000\n",
            "Epoch 22/30\n",
            "800/800 [==============================] - 1s 718us/step - loss: 0.1074 - acc: 0.9587 - val_loss: 0.7844 - val_acc: 0.6150\n",
            "Epoch 23/30\n",
            "800/800 [==============================] - 1s 749us/step - loss: 0.0548 - acc: 0.9825 - val_loss: 0.9745 - val_acc: 0.6150\n",
            "Epoch 24/30\n",
            "800/800 [==============================] - 1s 727us/step - loss: 0.0422 - acc: 0.9788 - val_loss: 1.0671 - val_acc: 0.5900\n",
            "Epoch 25/30\n",
            "800/800 [==============================] - 1s 724us/step - loss: 0.0675 - acc: 0.9800 - val_loss: 1.0071 - val_acc: 0.6050\n",
            "Epoch 26/30\n",
            "800/800 [==============================] - 1s 718us/step - loss: 0.0594 - acc: 0.9862 - val_loss: 0.9592 - val_acc: 0.5850\n",
            "Epoch 27/30\n",
            "800/800 [==============================] - 1s 738us/step - loss: 0.0532 - acc: 0.9825 - val_loss: 0.9851 - val_acc: 0.5900\n",
            "Epoch 28/30\n",
            "800/800 [==============================] - 1s 697us/step - loss: 0.0552 - acc: 0.9838 - val_loss: 1.1130 - val_acc: 0.6100\n",
            "Epoch 29/30\n",
            "800/800 [==============================] - 1s 718us/step - loss: 0.0641 - acc: 0.9788 - val_loss: 0.9673 - val_acc: 0.5750\n",
            "Epoch 30/30\n",
            "800/800 [==============================] - 1s 730us/step - loss: 0.0539 - acc: 0.9838 - val_loss: 1.0271 - val_acc: 0.6050\n"
          ],
          "name": "stdout"
        }
      ]
    },
    {
      "cell_type": "code",
      "metadata": {
        "id": "mLn8TDFk7R1u",
        "colab_type": "code",
        "colab": {
          "base_uri": "https://localhost:8080/",
          "height": 368
        },
        "outputId": "0f9037b3-b226-4130-e5dc-8df07e33df6e"
      },
      "source": [
        "score, acc = model.evaluate(X_train, y_train, batch_size=batch_size)\n",
        "print('Train score:', score)\n",
        "print('Train accuracy:', acc)\n",
        "\n",
        "score, acc = model.evaluate(X_test, y_test, batch_size=batch_size)\n",
        "print('Test score:', score)\n",
        "print('Test accuracy:', acc)\n",
        "\n",
        "# Plot the accuracy curves for training and validation \n",
        "pyplot.plot(history.history['acc'], color='b', label=\"Training accuracy\")\n",
        "pyplot.plot(history.history['val_acc'], color='r',label=\"Validation accuracy\")\n",
        "legend = pyplot.legend(loc='best', shadow=True)"
      ],
      "execution_count": 81,
      "outputs": [
        {
          "output_type": "stream",
          "text": [
            "800/800 [==============================] - 0s 122us/step\n",
            "Train score: 0.009456958286464215\n",
            "Train accuracy: 1.0\n",
            "200/200 [==============================] - 0s 139us/step\n",
            "Test score: 1.0271145009994507\n",
            "Test accuracy: 0.605\n"
          ],
          "name": "stdout"
        },
        {
          "output_type": "display_data",
          "data": {
            "image/png": "[encoded data removed]",
            "text/plain": [
              "<Figure size 432x288 with 1 Axes>"
            ]
          },
          "metadata": {
            "tags": []
          }
        }
      ]
    },
    {
      "cell_type": "code",
      "metadata": {
        "id": "dVkV-E7pAlvX",
        "colab_type": "code",
        "colab": {}
      },
      "source": [
        ""
      ],
      "execution_count": 0,
      "outputs": []
    }
  ]
}